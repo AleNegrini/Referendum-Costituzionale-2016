{
 "cells": [
  {
   "cell_type": "code",
   "execution_count": 163,
   "metadata": {
    "collapsed": true
   },
   "outputs": [],
   "source": [
    "import pandas as pd\n",
    "import numpy as np"
   ]
  },
  {
   "cell_type": "markdown",
   "metadata": {},
   "source": [
    "# Load cleaned csv dataset in a dataframe "
   ]
  },
  {
   "cell_type": "code",
   "execution_count": 164,
   "metadata": {
    "collapsed": false
   },
   "outputs": [],
   "source": [
    "df = pd.read_csv('../resources/ScrutiniFI_cleaned.csv',sep=';')"
   ]
  },
  {
   "cell_type": "code",
   "execution_count": 165,
   "metadata": {
    "collapsed": false
   },
   "outputs": [
    {
     "data": {
      "text/plain": [
       "(7992, 12)"
      ]
     },
     "execution_count": 165,
     "metadata": {},
     "output_type": "execute_result"
    }
   ],
   "source": [
    "df.shape"
   ]
  },
  {
   "cell_type": "code",
   "execution_count": 166,
   "metadata": {
    "collapsed": false
   },
   "outputs": [
    {
     "data": {
      "text/html": [
       "<div>\n",
       "<table border=\"1\" class=\"dataframe\">\n",
       "  <thead>\n",
       "    <tr style=\"text-align: right;\">\n",
       "      <th></th>\n",
       "      <th>DESCREGIONE</th>\n",
       "      <th>DESCPROVINCIA</th>\n",
       "      <th>DESCCOMUNE</th>\n",
       "      <th>ELETTORI</th>\n",
       "      <th>ELETTORI_M</th>\n",
       "      <th>VOTANTI</th>\n",
       "      <th>VOTANTI_M</th>\n",
       "      <th>NUMVOTISI</th>\n",
       "      <th>NUMVOTINO</th>\n",
       "      <th>NUMVOTIBIANCHI</th>\n",
       "      <th>NUMVOTINONVALIDI</th>\n",
       "      <th>NUMVOTICONTESTATI</th>\n",
       "    </tr>\n",
       "  </thead>\n",
       "  <tbody>\n",
       "    <tr>\n",
       "      <th>0</th>\n",
       "      <td>ABRUZZO</td>\n",
       "      <td>CHIETI</td>\n",
       "      <td>ALTINO                                        ...</td>\n",
       "      <td>2288</td>\n",
       "      <td>1101</td>\n",
       "      <td>1496</td>\n",
       "      <td>775</td>\n",
       "      <td>533</td>\n",
       "      <td>953</td>\n",
       "      <td>2</td>\n",
       "      <td>8</td>\n",
       "      <td>0</td>\n",
       "    </tr>\n",
       "    <tr>\n",
       "      <th>1</th>\n",
       "      <td>ABRUZZO</td>\n",
       "      <td>CHIETI</td>\n",
       "      <td>ARCHI                                         ...</td>\n",
       "      <td>1785</td>\n",
       "      <td>861</td>\n",
       "      <td>1241</td>\n",
       "      <td>632</td>\n",
       "      <td>442</td>\n",
       "      <td>782</td>\n",
       "      <td>3</td>\n",
       "      <td>14</td>\n",
       "      <td>0</td>\n",
       "    </tr>\n",
       "    <tr>\n",
       "      <th>2</th>\n",
       "      <td>ABRUZZO</td>\n",
       "      <td>CHIETI</td>\n",
       "      <td>ARI                                           ...</td>\n",
       "      <td>831</td>\n",
       "      <td>402</td>\n",
       "      <td>617</td>\n",
       "      <td>328</td>\n",
       "      <td>241</td>\n",
       "      <td>366</td>\n",
       "      <td>6</td>\n",
       "      <td>4</td>\n",
       "      <td>0</td>\n",
       "    </tr>\n",
       "    <tr>\n",
       "      <th>3</th>\n",
       "      <td>ABRUZZO</td>\n",
       "      <td>CHIETI</td>\n",
       "      <td>ARIELLI                                       ...</td>\n",
       "      <td>939</td>\n",
       "      <td>453</td>\n",
       "      <td>612</td>\n",
       "      <td>304</td>\n",
       "      <td>194</td>\n",
       "      <td>410</td>\n",
       "      <td>1</td>\n",
       "      <td>7</td>\n",
       "      <td>0</td>\n",
       "    </tr>\n",
       "    <tr>\n",
       "      <th>4</th>\n",
       "      <td>ABRUZZO</td>\n",
       "      <td>CHIETI</td>\n",
       "      <td>ATESSA                                        ...</td>\n",
       "      <td>8454</td>\n",
       "      <td>4121</td>\n",
       "      <td>5860</td>\n",
       "      <td>3006</td>\n",
       "      <td>1952</td>\n",
       "      <td>3836</td>\n",
       "      <td>45</td>\n",
       "      <td>27</td>\n",
       "      <td>0</td>\n",
       "    </tr>\n",
       "  </tbody>\n",
       "</table>\n",
       "</div>"
      ],
      "text/plain": [
       "  DESCREGIONE                   DESCPROVINCIA  \\\n",
       "0     ABRUZZO  CHIETI                           \n",
       "1     ABRUZZO  CHIETI                           \n",
       "2     ABRUZZO  CHIETI                           \n",
       "3     ABRUZZO  CHIETI                           \n",
       "4     ABRUZZO  CHIETI                           \n",
       "\n",
       "                                          DESCCOMUNE  ELETTORI  ELETTORI_M  \\\n",
       "0  ALTINO                                        ...      2288        1101   \n",
       "1  ARCHI                                         ...      1785         861   \n",
       "2  ARI                                           ...       831         402   \n",
       "3  ARIELLI                                       ...       939         453   \n",
       "4  ATESSA                                        ...      8454        4121   \n",
       "\n",
       "   VOTANTI  VOTANTI_M  NUMVOTISI  NUMVOTINO  NUMVOTIBIANCHI  NUMVOTINONVALIDI  \\\n",
       "0     1496        775        533        953               2                 8   \n",
       "1     1241        632        442        782               3                14   \n",
       "2      617        328        241        366               6                 4   \n",
       "3      612        304        194        410               1                 7   \n",
       "4     5860       3006       1952       3836              45                27   \n",
       "\n",
       "   NUMVOTICONTESTATI  \n",
       "0                  0  \n",
       "1                  0  \n",
       "2                  0  \n",
       "3                  0  \n",
       "4                  0  "
      ]
     },
     "execution_count": 166,
     "metadata": {},
     "output_type": "execute_result"
    }
   ],
   "source": [
    "df.head(5)"
   ]
  },
  {
   "cell_type": "markdown",
   "metadata": {},
   "source": [
    "# Dataframe's columns trasformations"
   ]
  },
  {
   "cell_type": "code",
   "execution_count": 167,
   "metadata": {
    "collapsed": false
   },
   "outputs": [
    {
     "data": {
      "text/plain": [
       "pandas.core.series.Series"
      ]
     },
     "execution_count": 167,
     "metadata": {},
     "output_type": "execute_result"
    }
   ],
   "source": [
    "# Create column ELETTORI_F\n",
    "pd.to_numeric(df['ELETTORI'])\n",
    "pd.to_numeric(df['ELETTORI_M'])\n",
    "elettori_f= df['ELETTORI'] - df['ELETTORI_M']\n",
    "elettori_f\n",
    "type(elettori_f)"
   ]
  },
  {
   "cell_type": "code",
   "execution_count": 168,
   "metadata": {
    "collapsed": true
   },
   "outputs": [],
   "source": [
    "# Add ELETTORI_F column to df\n",
    "df['ELETTORI_F']=elettori_f"
   ]
  },
  {
   "cell_type": "code",
   "execution_count": 169,
   "metadata": {
    "collapsed": false
   },
   "outputs": [
    {
     "data": {
      "text/plain": [
       "pandas.core.series.Series"
      ]
     },
     "execution_count": 169,
     "metadata": {},
     "output_type": "execute_result"
    }
   ],
   "source": [
    "# Create column PERC_VOTANTI\n",
    "pd.to_numeric(df['ELETTORI'])\n",
    "pd.to_numeric(df['VOTANTI'])\n",
    "perc_votanti= (df['VOTANTI'] / df['ELETTORI'])*100\n",
    "perc_votanti\n",
    "type(perc_votanti)"
   ]
  },
  {
   "cell_type": "code",
   "execution_count": 170,
   "metadata": {
    "collapsed": true
   },
   "outputs": [],
   "source": [
    "# Add PERCENTUALE_VOTANTI column to df\n",
    "df['PERCENTUALE_VOTANTI']=perc_votanti"
   ]
  },
  {
   "cell_type": "code",
   "execution_count": 171,
   "metadata": {
    "collapsed": false
   },
   "outputs": [
    {
     "data": {
      "text/plain": [
       "pandas.core.series.Series"
      ]
     },
     "execution_count": 171,
     "metadata": {},
     "output_type": "execute_result"
    }
   ],
   "source": [
    "# Create column PERC_SI\n",
    "pd.to_numeric(df['NUMVOTISI'])\n",
    "pd.to_numeric(df['VOTANTI'])\n",
    "perc_votanti_si= (df['NUMVOTISI'] / df['VOTANTI'])*100\n",
    "perc_votanti_si\n",
    "type(perc_votanti_si)"
   ]
  },
  {
   "cell_type": "code",
   "execution_count": 172,
   "metadata": {
    "collapsed": false
   },
   "outputs": [
    {
     "data": {
      "text/plain": [
       "pandas.core.series.Series"
      ]
     },
     "execution_count": 172,
     "metadata": {},
     "output_type": "execute_result"
    }
   ],
   "source": [
    "# Create column PERC_NO\n",
    "pd.to_numeric(df['NUMVOTINO'])\n",
    "pd.to_numeric(df['VOTANTI'])\n",
    "perc_votanti_no= (df['NUMVOTINO'] / df['VOTANTI'])*100\n",
    "perc_votanti_no\n",
    "type(perc_votanti_no)"
   ]
  },
  {
   "cell_type": "code",
   "execution_count": 173,
   "metadata": {
    "collapsed": false
   },
   "outputs": [],
   "source": [
    "# Add PERCENTUALE_SI e NO column to df\n",
    "df['PERCENTUALE_NO']=perc_votanti_no\n",
    "df['PERCENTUALE_SI']=perc_votanti_si"
   ]
  },
  {
   "cell_type": "code",
   "execution_count": 174,
   "metadata": {
    "collapsed": false
   },
   "outputs": [
    {
     "data": {
      "text/plain": [
       "pandas.core.series.Series"
      ]
     },
     "execution_count": 174,
     "metadata": {},
     "output_type": "execute_result"
    }
   ],
   "source": [
    "# Create column PERC_ALTRI\n",
    "pd.to_numeric(df['NUMVOTIBIANCHI'])\n",
    "pd.to_numeric(df['NUMVOTINONVALIDI'])\n",
    "pd.to_numeric(df['NUMVOTICONTESTATI'])\n",
    "pd.to_numeric(df['VOTANTI'])\n",
    "numerator = (df['NUMVOTIBIANCHI']+df['NUMVOTINONVALIDI']+df['NUMVOTICONTESTATI'])\n",
    "perc_votanti_altri= (numerator/ df['VOTANTI'])*100\n",
    "perc_votanti_altri\n",
    "type(perc_votanti_altri)"
   ]
  },
  {
   "cell_type": "code",
   "execution_count": 175,
   "metadata": {
    "collapsed": true
   },
   "outputs": [],
   "source": [
    "df['PERCENTUALE_ALTRI']=perc_votanti_altri"
   ]
  },
  {
   "cell_type": "code",
   "execution_count": 176,
   "metadata": {
    "collapsed": false
   },
   "outputs": [
    {
     "data": {
      "text/html": [
       "<div>\n",
       "<table border=\"1\" class=\"dataframe\">\n",
       "  <thead>\n",
       "    <tr style=\"text-align: right;\">\n",
       "      <th></th>\n",
       "      <th>DESCREGIONE</th>\n",
       "      <th>DESCPROVINCIA</th>\n",
       "      <th>DESCCOMUNE</th>\n",
       "      <th>ELETTORI</th>\n",
       "      <th>ELETTORI_M</th>\n",
       "      <th>VOTANTI</th>\n",
       "      <th>VOTANTI_M</th>\n",
       "      <th>NUMVOTISI</th>\n",
       "      <th>NUMVOTINO</th>\n",
       "      <th>NUMVOTIBIANCHI</th>\n",
       "      <th>NUMVOTINONVALIDI</th>\n",
       "      <th>NUMVOTICONTESTATI</th>\n",
       "      <th>ELETTORI_F</th>\n",
       "      <th>PERCENTUALE_VOTANTI</th>\n",
       "      <th>PERCENTUALE_NO</th>\n",
       "      <th>PERCENTUALE_SI</th>\n",
       "      <th>PERCENTUALE_ALTRI</th>\n",
       "    </tr>\n",
       "  </thead>\n",
       "  <tbody>\n",
       "    <tr>\n",
       "      <th>0</th>\n",
       "      <td>ABRUZZO</td>\n",
       "      <td>CHIETI</td>\n",
       "      <td>ALTINO                                        ...</td>\n",
       "      <td>2288</td>\n",
       "      <td>1101</td>\n",
       "      <td>1496</td>\n",
       "      <td>775</td>\n",
       "      <td>533</td>\n",
       "      <td>953</td>\n",
       "      <td>2</td>\n",
       "      <td>8</td>\n",
       "      <td>0</td>\n",
       "      <td>1187</td>\n",
       "      <td>65.384615</td>\n",
       "      <td>63.703209</td>\n",
       "      <td>35.628342</td>\n",
       "      <td>0.668449</td>\n",
       "    </tr>\n",
       "    <tr>\n",
       "      <th>1</th>\n",
       "      <td>ABRUZZO</td>\n",
       "      <td>CHIETI</td>\n",
       "      <td>ARCHI                                         ...</td>\n",
       "      <td>1785</td>\n",
       "      <td>861</td>\n",
       "      <td>1241</td>\n",
       "      <td>632</td>\n",
       "      <td>442</td>\n",
       "      <td>782</td>\n",
       "      <td>3</td>\n",
       "      <td>14</td>\n",
       "      <td>0</td>\n",
       "      <td>924</td>\n",
       "      <td>69.523810</td>\n",
       "      <td>63.013699</td>\n",
       "      <td>35.616438</td>\n",
       "      <td>1.369863</td>\n",
       "    </tr>\n",
       "    <tr>\n",
       "      <th>2</th>\n",
       "      <td>ABRUZZO</td>\n",
       "      <td>CHIETI</td>\n",
       "      <td>ARI                                           ...</td>\n",
       "      <td>831</td>\n",
       "      <td>402</td>\n",
       "      <td>617</td>\n",
       "      <td>328</td>\n",
       "      <td>241</td>\n",
       "      <td>366</td>\n",
       "      <td>6</td>\n",
       "      <td>4</td>\n",
       "      <td>0</td>\n",
       "      <td>429</td>\n",
       "      <td>74.247894</td>\n",
       "      <td>59.319287</td>\n",
       "      <td>39.059968</td>\n",
       "      <td>1.620746</td>\n",
       "    </tr>\n",
       "    <tr>\n",
       "      <th>3</th>\n",
       "      <td>ABRUZZO</td>\n",
       "      <td>CHIETI</td>\n",
       "      <td>ARIELLI                                       ...</td>\n",
       "      <td>939</td>\n",
       "      <td>453</td>\n",
       "      <td>612</td>\n",
       "      <td>304</td>\n",
       "      <td>194</td>\n",
       "      <td>410</td>\n",
       "      <td>1</td>\n",
       "      <td>7</td>\n",
       "      <td>0</td>\n",
       "      <td>486</td>\n",
       "      <td>65.175719</td>\n",
       "      <td>66.993464</td>\n",
       "      <td>31.699346</td>\n",
       "      <td>1.307190</td>\n",
       "    </tr>\n",
       "    <tr>\n",
       "      <th>4</th>\n",
       "      <td>ABRUZZO</td>\n",
       "      <td>CHIETI</td>\n",
       "      <td>ATESSA                                        ...</td>\n",
       "      <td>8454</td>\n",
       "      <td>4121</td>\n",
       "      <td>5860</td>\n",
       "      <td>3006</td>\n",
       "      <td>1952</td>\n",
       "      <td>3836</td>\n",
       "      <td>45</td>\n",
       "      <td>27</td>\n",
       "      <td>0</td>\n",
       "      <td>4333</td>\n",
       "      <td>69.316300</td>\n",
       "      <td>65.460751</td>\n",
       "      <td>33.310580</td>\n",
       "      <td>1.228669</td>\n",
       "    </tr>\n",
       "  </tbody>\n",
       "</table>\n",
       "</div>"
      ],
      "text/plain": [
       "  DESCREGIONE                   DESCPROVINCIA  \\\n",
       "0     ABRUZZO  CHIETI                           \n",
       "1     ABRUZZO  CHIETI                           \n",
       "2     ABRUZZO  CHIETI                           \n",
       "3     ABRUZZO  CHIETI                           \n",
       "4     ABRUZZO  CHIETI                           \n",
       "\n",
       "                                          DESCCOMUNE  ELETTORI  ELETTORI_M  \\\n",
       "0  ALTINO                                        ...      2288        1101   \n",
       "1  ARCHI                                         ...      1785         861   \n",
       "2  ARI                                           ...       831         402   \n",
       "3  ARIELLI                                       ...       939         453   \n",
       "4  ATESSA                                        ...      8454        4121   \n",
       "\n",
       "   VOTANTI  VOTANTI_M  NUMVOTISI  NUMVOTINO  NUMVOTIBIANCHI  NUMVOTINONVALIDI  \\\n",
       "0     1496        775        533        953               2                 8   \n",
       "1     1241        632        442        782               3                14   \n",
       "2      617        328        241        366               6                 4   \n",
       "3      612        304        194        410               1                 7   \n",
       "4     5860       3006       1952       3836              45                27   \n",
       "\n",
       "   NUMVOTICONTESTATI  ELETTORI_F  PERCENTUALE_VOTANTI  PERCENTUALE_NO  \\\n",
       "0                  0        1187            65.384615       63.703209   \n",
       "1                  0         924            69.523810       63.013699   \n",
       "2                  0         429            74.247894       59.319287   \n",
       "3                  0         486            65.175719       66.993464   \n",
       "4                  0        4333            69.316300       65.460751   \n",
       "\n",
       "   PERCENTUALE_SI  PERCENTUALE_ALTRI  \n",
       "0       35.628342           0.668449  \n",
       "1       35.616438           1.369863  \n",
       "2       39.059968           1.620746  \n",
       "3       31.699346           1.307190  \n",
       "4       33.310580           1.228669  "
      ]
     },
     "execution_count": 176,
     "metadata": {},
     "output_type": "execute_result"
    }
   ],
   "source": [
    "df.head(5)"
   ]
  },
  {
   "cell_type": "code",
   "execution_count": 177,
   "metadata": {
    "collapsed": true
   },
   "outputs": [],
   "source": [
    "df_relevant_columns = df[['DESCREGIONE','DESCPROVINCIA','DESCCOMUNE','ELETTORI','ELETTORI_M','ELETTORI_F','PERCENTUALE_VOTANTI','PERCENTUALE_NO','PERCENTUALE_SI','PERCENTUALE_ALTRI']]\n"
   ]
  },
  {
   "cell_type": "code",
   "execution_count": 178,
   "metadata": {
    "collapsed": false
   },
   "outputs": [
    {
     "data": {
      "text/html": [
       "<div>\n",
       "<table border=\"1\" class=\"dataframe\">\n",
       "  <thead>\n",
       "    <tr style=\"text-align: right;\">\n",
       "      <th></th>\n",
       "      <th>DESCREGIONE</th>\n",
       "      <th>DESCPROVINCIA</th>\n",
       "      <th>DESCCOMUNE</th>\n",
       "      <th>ELETTORI</th>\n",
       "      <th>ELETTORI_M</th>\n",
       "      <th>ELETTORI_F</th>\n",
       "      <th>PERCENTUALE_VOTANTI</th>\n",
       "      <th>PERCENTUALE_NO</th>\n",
       "      <th>PERCENTUALE_SI</th>\n",
       "      <th>PERCENTUALE_ALTRI</th>\n",
       "    </tr>\n",
       "  </thead>\n",
       "  <tbody>\n",
       "    <tr>\n",
       "      <th>0</th>\n",
       "      <td>ABRUZZO</td>\n",
       "      <td>CHIETI</td>\n",
       "      <td>ALTINO                                        ...</td>\n",
       "      <td>2288</td>\n",
       "      <td>1101</td>\n",
       "      <td>1187</td>\n",
       "      <td>65.384615</td>\n",
       "      <td>63.703209</td>\n",
       "      <td>35.628342</td>\n",
       "      <td>0.668449</td>\n",
       "    </tr>\n",
       "    <tr>\n",
       "      <th>1</th>\n",
       "      <td>ABRUZZO</td>\n",
       "      <td>CHIETI</td>\n",
       "      <td>ARCHI                                         ...</td>\n",
       "      <td>1785</td>\n",
       "      <td>861</td>\n",
       "      <td>924</td>\n",
       "      <td>69.523810</td>\n",
       "      <td>63.013699</td>\n",
       "      <td>35.616438</td>\n",
       "      <td>1.369863</td>\n",
       "    </tr>\n",
       "    <tr>\n",
       "      <th>2</th>\n",
       "      <td>ABRUZZO</td>\n",
       "      <td>CHIETI</td>\n",
       "      <td>ARI                                           ...</td>\n",
       "      <td>831</td>\n",
       "      <td>402</td>\n",
       "      <td>429</td>\n",
       "      <td>74.247894</td>\n",
       "      <td>59.319287</td>\n",
       "      <td>39.059968</td>\n",
       "      <td>1.620746</td>\n",
       "    </tr>\n",
       "    <tr>\n",
       "      <th>3</th>\n",
       "      <td>ABRUZZO</td>\n",
       "      <td>CHIETI</td>\n",
       "      <td>ARIELLI                                       ...</td>\n",
       "      <td>939</td>\n",
       "      <td>453</td>\n",
       "      <td>486</td>\n",
       "      <td>65.175719</td>\n",
       "      <td>66.993464</td>\n",
       "      <td>31.699346</td>\n",
       "      <td>1.307190</td>\n",
       "    </tr>\n",
       "    <tr>\n",
       "      <th>4</th>\n",
       "      <td>ABRUZZO</td>\n",
       "      <td>CHIETI</td>\n",
       "      <td>ATESSA                                        ...</td>\n",
       "      <td>8454</td>\n",
       "      <td>4121</td>\n",
       "      <td>4333</td>\n",
       "      <td>69.316300</td>\n",
       "      <td>65.460751</td>\n",
       "      <td>33.310580</td>\n",
       "      <td>1.228669</td>\n",
       "    </tr>\n",
       "  </tbody>\n",
       "</table>\n",
       "</div>"
      ],
      "text/plain": [
       "  DESCREGIONE                   DESCPROVINCIA  \\\n",
       "0     ABRUZZO  CHIETI                           \n",
       "1     ABRUZZO  CHIETI                           \n",
       "2     ABRUZZO  CHIETI                           \n",
       "3     ABRUZZO  CHIETI                           \n",
       "4     ABRUZZO  CHIETI                           \n",
       "\n",
       "                                          DESCCOMUNE  ELETTORI  ELETTORI_M  \\\n",
       "0  ALTINO                                        ...      2288        1101   \n",
       "1  ARCHI                                         ...      1785         861   \n",
       "2  ARI                                           ...       831         402   \n",
       "3  ARIELLI                                       ...       939         453   \n",
       "4  ATESSA                                        ...      8454        4121   \n",
       "\n",
       "   ELETTORI_F  PERCENTUALE_VOTANTI  PERCENTUALE_NO  PERCENTUALE_SI  \\\n",
       "0        1187            65.384615       63.703209       35.628342   \n",
       "1         924            69.523810       63.013699       35.616438   \n",
       "2         429            74.247894       59.319287       39.059968   \n",
       "3         486            65.175719       66.993464       31.699346   \n",
       "4        4333            69.316300       65.460751       33.310580   \n",
       "\n",
       "   PERCENTUALE_ALTRI  \n",
       "0           0.668449  \n",
       "1           1.369863  \n",
       "2           1.620746  \n",
       "3           1.307190  \n",
       "4           1.228669  "
      ]
     },
     "execution_count": 178,
     "metadata": {},
     "output_type": "execute_result"
    }
   ],
   "source": [
    "df_relevant_columns.head(5)"
   ]
  },
  {
   "cell_type": "markdown",
   "metadata": {},
   "source": [
    "# Aggregated dataset"
   ]
  },
  {
   "cell_type": "code",
   "execution_count": 179,
   "metadata": {
    "collapsed": false
   },
   "outputs": [],
   "source": [
    "tot_elettori_series=df_relevant_columns.groupby('DESCREGIONE')['ELETTORI'].sum()"
   ]
  },
  {
   "cell_type": "code",
   "execution_count": 180,
   "metadata": {
    "collapsed": true
   },
   "outputs": [],
   "source": [
    "tot_elettori_M_series=df_relevant_columns.groupby('DESCREGIONE')['ELETTORI_M'].sum()"
   ]
  },
  {
   "cell_type": "code",
   "execution_count": 181,
   "metadata": {
    "collapsed": true
   },
   "outputs": [],
   "source": [
    "tot_elettori_F_series=df_relevant_columns.groupby('DESCREGIONE')['ELETTORI_F'].sum()"
   ]
  },
  {
   "cell_type": "code",
   "execution_count": 182,
   "metadata": {
    "collapsed": false
   },
   "outputs": [],
   "source": [
    "percentuale_votanti=df_relevant_columns.groupby('DESCREGIONE')['PERCENTUALE_VOTANTI'].mean()"
   ]
  },
  {
   "cell_type": "code",
   "execution_count": 183,
   "metadata": {
    "collapsed": true
   },
   "outputs": [],
   "source": [
    "percentuale_votanti_no=df_relevant_columns.groupby('DESCREGIONE')['PERCENTUALE_NO'].mean()"
   ]
  },
  {
   "cell_type": "code",
   "execution_count": 184,
   "metadata": {
    "collapsed": true
   },
   "outputs": [],
   "source": [
    "percentuale_votanti_si=df_relevant_columns.groupby('DESCREGIONE')['PERCENTUALE_SI'].mean()"
   ]
  },
  {
   "cell_type": "code",
   "execution_count": 185,
   "metadata": {
    "collapsed": true
   },
   "outputs": [],
   "source": [
    "percentuale_votanti_altri=df_relevant_columns.groupby('DESCREGIONE')['PERCENTUALE_ALTRI'].mean()"
   ]
  },
  {
   "cell_type": "code",
   "execution_count": 186,
   "metadata": {
    "collapsed": false
   },
   "outputs": [],
   "source": [
    "df_final = pd.DataFrame(tot_elettori_series)"
   ]
  },
  {
   "cell_type": "code",
   "execution_count": 187,
   "metadata": {
    "collapsed": false
   },
   "outputs": [],
   "source": [
    "a=pd.Series(data)"
   ]
  },
  {
   "cell_type": "code",
   "execution_count": 188,
   "metadata": {
    "collapsed": false
   },
   "outputs": [],
   "source": [
    "df_final['TOTALE_ELETTORI_M']=tot_elettori_M_series\n",
    "df_final['TOTALE_ELETTORI_F']=tot_elettori_F_series\n",
    "df_final['PERC_VOTANTI']=percentuale_votanti\n",
    "df_final['PERC_VOTANTI_NO']=percentuale_votanti_no\n",
    "df_final['PERC_VOTANTI_SI']=percentuale_votanti_si\n",
    "df_final['PERC_VOTANTI_ALTRO']=percentuale_votanti_altri"
   ]
  },
  {
   "cell_type": "code",
   "execution_count": 189,
   "metadata": {
    "collapsed": false
   },
   "outputs": [
    {
     "data": {
      "text/html": [
       "<div>\n",
       "<table border=\"1\" class=\"dataframe\">\n",
       "  <thead>\n",
       "    <tr style=\"text-align: right;\">\n",
       "      <th></th>\n",
       "      <th>ELETTORI</th>\n",
       "      <th>TOTALE_ELETTORI_M</th>\n",
       "      <th>TOTALE_ELETTORI_F</th>\n",
       "      <th>PERC_VOTANTI</th>\n",
       "      <th>PERC_VOTANTI_NO</th>\n",
       "      <th>PERC_VOTANTI_SI</th>\n",
       "      <th>PERC_VOTANTI_ALTRO</th>\n",
       "    </tr>\n",
       "    <tr>\n",
       "      <th>DESCREGIONE</th>\n",
       "      <th></th>\n",
       "      <th></th>\n",
       "      <th></th>\n",
       "      <th></th>\n",
       "      <th></th>\n",
       "      <th></th>\n",
       "      <th></th>\n",
       "    </tr>\n",
       "  </thead>\n",
       "  <tbody>\n",
       "    <tr>\n",
       "      <th>ABRUZZO</th>\n",
       "      <td>1052049</td>\n",
       "      <td>509116</td>\n",
       "      <td>542933</td>\n",
       "      <td>66.592899</td>\n",
       "      <td>61.707813</td>\n",
       "      <td>37.125914</td>\n",
       "      <td>1.166273</td>\n",
       "    </tr>\n",
       "    <tr>\n",
       "      <th>BASILICATA</th>\n",
       "      <td>467000</td>\n",
       "      <td>227236</td>\n",
       "      <td>239764</td>\n",
       "      <td>59.853818</td>\n",
       "      <td>62.002077</td>\n",
       "      <td>36.445533</td>\n",
       "      <td>1.552390</td>\n",
       "    </tr>\n",
       "    <tr>\n",
       "      <th>CALABRIA</th>\n",
       "      <td>1553741</td>\n",
       "      <td>749404</td>\n",
       "      <td>804337</td>\n",
       "      <td>52.818242</td>\n",
       "      <td>62.473804</td>\n",
       "      <td>36.365431</td>\n",
       "      <td>1.160765</td>\n",
       "    </tr>\n",
       "    <tr>\n",
       "      <th>CAMPANIA</th>\n",
       "      <td>4566905</td>\n",
       "      <td>2190203</td>\n",
       "      <td>2376702</td>\n",
       "      <td>60.132150</td>\n",
       "      <td>64.238432</td>\n",
       "      <td>34.722998</td>\n",
       "      <td>1.038569</td>\n",
       "    </tr>\n",
       "    <tr>\n",
       "      <th>EMILIA-ROMAGNA</th>\n",
       "      <td>3326910</td>\n",
       "      <td>1605036</td>\n",
       "      <td>1721874</td>\n",
       "      <td>74.436518</td>\n",
       "      <td>51.171401</td>\n",
       "      <td>47.912740</td>\n",
       "      <td>0.915859</td>\n",
       "    </tr>\n",
       "    <tr>\n",
       "      <th>FRIULI-VENEZIA GIULIA</th>\n",
       "      <td>952494</td>\n",
       "      <td>457538</td>\n",
       "      <td>494956</td>\n",
       "      <td>72.018981</td>\n",
       "      <td>60.801694</td>\n",
       "      <td>38.269722</td>\n",
       "      <td>0.928584</td>\n",
       "    </tr>\n",
       "    <tr>\n",
       "      <th>LAZIO</th>\n",
       "      <td>4402145</td>\n",
       "      <td>2097786</td>\n",
       "      <td>2304359</td>\n",
       "      <td>67.714973</td>\n",
       "      <td>64.175080</td>\n",
       "      <td>34.894958</td>\n",
       "      <td>0.929962</td>\n",
       "    </tr>\n",
       "    <tr>\n",
       "      <th>LIGURIA</th>\n",
       "      <td>1241469</td>\n",
       "      <td>585208</td>\n",
       "      <td>656261</td>\n",
       "      <td>68.462049</td>\n",
       "      <td>61.046395</td>\n",
       "      <td>37.890684</td>\n",
       "      <td>1.062920</td>\n",
       "    </tr>\n",
       "    <tr>\n",
       "      <th>LOMBARDIA</th>\n",
       "      <td>7480375</td>\n",
       "      <td>3616467</td>\n",
       "      <td>3863908</td>\n",
       "      <td>74.341883</td>\n",
       "      <td>58.335652</td>\n",
       "      <td>40.813336</td>\n",
       "      <td>0.851012</td>\n",
       "    </tr>\n",
       "    <tr>\n",
       "      <th>MARCHE</th>\n",
       "      <td>1189181</td>\n",
       "      <td>574341</td>\n",
       "      <td>614840</td>\n",
       "      <td>70.872216</td>\n",
       "      <td>54.618396</td>\n",
       "      <td>44.293391</td>\n",
       "      <td>1.088213</td>\n",
       "    </tr>\n",
       "    <tr>\n",
       "      <th>MOLISE</th>\n",
       "      <td>256600</td>\n",
       "      <td>124778</td>\n",
       "      <td>131822</td>\n",
       "      <td>60.926154</td>\n",
       "      <td>57.020702</td>\n",
       "      <td>41.736850</td>\n",
       "      <td>1.242448</td>\n",
       "    </tr>\n",
       "    <tr>\n",
       "      <th>PIEMONTE</th>\n",
       "      <td>3396378</td>\n",
       "      <td>1633247</td>\n",
       "      <td>1763131</td>\n",
       "      <td>71.462230</td>\n",
       "      <td>57.570099</td>\n",
       "      <td>41.241806</td>\n",
       "      <td>1.188096</td>\n",
       "    </tr>\n",
       "    <tr>\n",
       "      <th>PUGLIA</th>\n",
       "      <td>3280712</td>\n",
       "      <td>1571599</td>\n",
       "      <td>1709113</td>\n",
       "      <td>61.483193</td>\n",
       "      <td>64.333683</td>\n",
       "      <td>34.691164</td>\n",
       "      <td>0.975154</td>\n",
       "    </tr>\n",
       "    <tr>\n",
       "      <th>SARDEGNA</th>\n",
       "      <td>1375735</td>\n",
       "      <td>668772</td>\n",
       "      <td>706963</td>\n",
       "      <td>58.882119</td>\n",
       "      <td>69.009590</td>\n",
       "      <td>30.240683</td>\n",
       "      <td>0.749726</td>\n",
       "    </tr>\n",
       "    <tr>\n",
       "      <th>SICILIA</th>\n",
       "      <td>4031871</td>\n",
       "      <td>1924425</td>\n",
       "      <td>2107446</td>\n",
       "      <td>56.446912</td>\n",
       "      <td>67.777543</td>\n",
       "      <td>30.940608</td>\n",
       "      <td>1.281850</td>\n",
       "    </tr>\n",
       "    <tr>\n",
       "      <th>TOSCANA</th>\n",
       "      <td>2854129</td>\n",
       "      <td>1364774</td>\n",
       "      <td>1489355</td>\n",
       "      <td>73.473172</td>\n",
       "      <td>46.929083</td>\n",
       "      <td>52.038012</td>\n",
       "      <td>1.032906</td>\n",
       "    </tr>\n",
       "    <tr>\n",
       "      <th>TRENTINO-ALTO ADIGE</th>\n",
       "      <td>792504</td>\n",
       "      <td>387839</td>\n",
       "      <td>404665</td>\n",
       "      <td>72.707972</td>\n",
       "      <td>44.390086</td>\n",
       "      <td>54.480894</td>\n",
       "      <td>1.129019</td>\n",
       "    </tr>\n",
       "    <tr>\n",
       "      <th>UMBRIA</th>\n",
       "      <td>675404</td>\n",
       "      <td>324409</td>\n",
       "      <td>350995</td>\n",
       "      <td>72.032043</td>\n",
       "      <td>50.998532</td>\n",
       "      <td>47.995758</td>\n",
       "      <td>1.005710</td>\n",
       "    </tr>\n",
       "    <tr>\n",
       "      <th>VALLE D'AOSTA</th>\n",
       "      <td>99735</td>\n",
       "      <td>48701</td>\n",
       "      <td>51034</td>\n",
       "      <td>72.178098</td>\n",
       "      <td>54.249916</td>\n",
       "      <td>43.826618</td>\n",
       "      <td>1.923466</td>\n",
       "    </tr>\n",
       "    <tr>\n",
       "      <th>VENETO</th>\n",
       "      <td>3714515</td>\n",
       "      <td>1801910</td>\n",
       "      <td>1912605</td>\n",
       "      <td>76.631141</td>\n",
       "      <td>63.577420</td>\n",
       "      <td>35.623590</td>\n",
       "      <td>0.798990</td>\n",
       "    </tr>\n",
       "  </tbody>\n",
       "</table>\n",
       "</div>"
      ],
      "text/plain": [
       "                       ELETTORI  TOTALE_ELETTORI_M  TOTALE_ELETTORI_F  \\\n",
       "DESCREGIONE                                                             \n",
       "ABRUZZO                 1052049             509116             542933   \n",
       "BASILICATA               467000             227236             239764   \n",
       "CALABRIA                1553741             749404             804337   \n",
       "CAMPANIA                4566905            2190203            2376702   \n",
       "EMILIA-ROMAGNA          3326910            1605036            1721874   \n",
       "FRIULI-VENEZIA GIULIA    952494             457538             494956   \n",
       "LAZIO                   4402145            2097786            2304359   \n",
       "LIGURIA                 1241469             585208             656261   \n",
       "LOMBARDIA               7480375            3616467            3863908   \n",
       "MARCHE                  1189181             574341             614840   \n",
       "MOLISE                   256600             124778             131822   \n",
       "PIEMONTE                3396378            1633247            1763131   \n",
       "PUGLIA                  3280712            1571599            1709113   \n",
       "SARDEGNA                1375735             668772             706963   \n",
       "SICILIA                 4031871            1924425            2107446   \n",
       "TOSCANA                 2854129            1364774            1489355   \n",
       "TRENTINO-ALTO ADIGE      792504             387839             404665   \n",
       "UMBRIA                   675404             324409             350995   \n",
       "VALLE D'AOSTA             99735              48701              51034   \n",
       "VENETO                  3714515            1801910            1912605   \n",
       "\n",
       "                       PERC_VOTANTI  PERC_VOTANTI_NO  PERC_VOTANTI_SI  \\\n",
       "DESCREGIONE                                                             \n",
       "ABRUZZO                   66.592899        61.707813        37.125914   \n",
       "BASILICATA                59.853818        62.002077        36.445533   \n",
       "CALABRIA                  52.818242        62.473804        36.365431   \n",
       "CAMPANIA                  60.132150        64.238432        34.722998   \n",
       "EMILIA-ROMAGNA            74.436518        51.171401        47.912740   \n",
       "FRIULI-VENEZIA GIULIA     72.018981        60.801694        38.269722   \n",
       "LAZIO                     67.714973        64.175080        34.894958   \n",
       "LIGURIA                   68.462049        61.046395        37.890684   \n",
       "LOMBARDIA                 74.341883        58.335652        40.813336   \n",
       "MARCHE                    70.872216        54.618396        44.293391   \n",
       "MOLISE                    60.926154        57.020702        41.736850   \n",
       "PIEMONTE                  71.462230        57.570099        41.241806   \n",
       "PUGLIA                    61.483193        64.333683        34.691164   \n",
       "SARDEGNA                  58.882119        69.009590        30.240683   \n",
       "SICILIA                   56.446912        67.777543        30.940608   \n",
       "TOSCANA                   73.473172        46.929083        52.038012   \n",
       "TRENTINO-ALTO ADIGE       72.707972        44.390086        54.480894   \n",
       "UMBRIA                    72.032043        50.998532        47.995758   \n",
       "VALLE D'AOSTA             72.178098        54.249916        43.826618   \n",
       "VENETO                    76.631141        63.577420        35.623590   \n",
       "\n",
       "                       PERC_VOTANTI_ALTRO  \n",
       "DESCREGIONE                                \n",
       "ABRUZZO                          1.166273  \n",
       "BASILICATA                       1.552390  \n",
       "CALABRIA                         1.160765  \n",
       "CAMPANIA                         1.038569  \n",
       "EMILIA-ROMAGNA                   0.915859  \n",
       "FRIULI-VENEZIA GIULIA            0.928584  \n",
       "LAZIO                            0.929962  \n",
       "LIGURIA                          1.062920  \n",
       "LOMBARDIA                        0.851012  \n",
       "MARCHE                           1.088213  \n",
       "MOLISE                           1.242448  \n",
       "PIEMONTE                         1.188096  \n",
       "PUGLIA                           0.975154  \n",
       "SARDEGNA                         0.749726  \n",
       "SICILIA                          1.281850  \n",
       "TOSCANA                          1.032906  \n",
       "TRENTINO-ALTO ADIGE              1.129019  \n",
       "UMBRIA                           1.005710  \n",
       "VALLE D'AOSTA                    1.923466  \n",
       "VENETO                           0.798990  "
      ]
     },
     "execution_count": 189,
     "metadata": {},
     "output_type": "execute_result"
    }
   ],
   "source": [
    "df_final"
   ]
  },
  {
   "cell_type": "markdown",
   "metadata": {},
   "source": [
    "# Check that percSI+percNO+percALTRI = 100%"
   ]
  },
  {
   "cell_type": "code",
   "execution_count": 192,
   "metadata": {
    "collapsed": false
   },
   "outputs": [
    {
     "data": {
      "text/plain": [
       "DESCREGIONE\n",
       "ABRUZZO                  100.0\n",
       "BASILICATA               100.0\n",
       "CALABRIA                 100.0\n",
       "CAMPANIA                 100.0\n",
       "EMILIA-ROMAGNA           100.0\n",
       "FRIULI-VENEZIA GIULIA    100.0\n",
       "LAZIO                    100.0\n",
       "LIGURIA                  100.0\n",
       "LOMBARDIA                100.0\n",
       "MARCHE                   100.0\n",
       "MOLISE                   100.0\n",
       "PIEMONTE                 100.0\n",
       "PUGLIA                   100.0\n",
       "SARDEGNA                 100.0\n",
       "SICILIA                  100.0\n",
       "TOSCANA                  100.0\n",
       "TRENTINO-ALTO ADIGE      100.0\n",
       "UMBRIA                   100.0\n",
       "VALLE D'AOSTA            100.0\n",
       "VENETO                   100.0\n",
       "dtype: float64"
      ]
     },
     "execution_count": 192,
     "metadata": {},
     "output_type": "execute_result"
    }
   ],
   "source": [
    "# Create column PERC_VOTANTI\n",
    "a=pd.to_numeric(df_final['PERC_VOTANTI_NO'])\n",
    "b=pd.to_numeric(df_final['PERC_VOTANTI_SI'])\n",
    "c=pd.to_numeric(df_final['PERC_VOTANTI_ALTRO'])\n",
    "tot_perc =a+b+c \n",
    "tot_perc"
   ]
  },
  {
   "cell_type": "markdown",
   "metadata": {},
   "source": [
    "# Write dataframe to CSV"
   ]
  },
  {
   "cell_type": "code",
   "execution_count": 190,
   "metadata": {
    "collapsed": true
   },
   "outputs": [],
   "source": [
    "df_final.to_csv('../resources/aggregazione.csv',sep=';',index=False)"
   ]
  },
  {
   "cell_type": "code",
   "execution_count": null,
   "metadata": {
    "collapsed": true
   },
   "outputs": [],
   "source": []
  }
 ],
 "metadata": {
  "anaconda-cloud": {},
  "kernelspec": {
   "display_name": "Python [default]",
   "language": "python",
   "name": "python3"
  }
 },
 "nbformat": 4,
 "nbformat_minor": 1
}
