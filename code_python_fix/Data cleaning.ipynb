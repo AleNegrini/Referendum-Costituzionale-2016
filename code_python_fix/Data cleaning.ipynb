{
 "cells": [
  {
   "cell_type": "code",
   "execution_count": 238,
   "metadata": {
    "collapsed": true
   },
   "outputs": [],
   "source": [
    "import pandas as pd\n",
    "import numpy as np"
   ]
  },
  {
   "cell_type": "markdown",
   "metadata": {},
   "source": [
    "# Load csv dataset in a dataframe "
   ]
  },
  {
   "cell_type": "code",
   "execution_count": 239,
   "metadata": {
    "collapsed": false
   },
   "outputs": [],
   "source": [
    "df = pd.read_csv('../resources/ScrutiniFI.csv',sep=';')"
   ]
  },
  {
   "cell_type": "markdown",
   "metadata": {},
   "source": [
    "# Shape of dataframe"
   ]
  },
  {
   "cell_type": "code",
   "execution_count": 240,
   "metadata": {
    "collapsed": false
   },
   "outputs": [
    {
     "name": "stdout",
     "output_type": "stream",
     "text": [
      "Dataset is composed by 7998 rows\n",
      "Dataset is composed by 12 columns\n"
     ]
    }
   ],
   "source": [
    "# Shape of the dataset\n",
    "df.shape\n",
    "print('Dataset is composed by {} rows'.format(df.shape[0]))\n",
    "print('Dataset is composed by {} columns'.format(df.shape[1]))"
   ]
  },
  {
   "cell_type": "code",
   "execution_count": 241,
   "metadata": {
    "collapsed": false
   },
   "outputs": [
    {
     "data": {
      "text/html": [
       "<div>\n",
       "<table border=\"1\" class=\"dataframe\">\n",
       "  <thead>\n",
       "    <tr style=\"text-align: right;\">\n",
       "      <th></th>\n",
       "      <th>DESCREGIONE</th>\n",
       "      <th>DESCPROVINCIA</th>\n",
       "      <th>DESCCOMUNE</th>\n",
       "      <th>ELETTORI</th>\n",
       "      <th>ELETTORI_M</th>\n",
       "      <th>VOTANTI</th>\n",
       "      <th>VOTANTI_M</th>\n",
       "      <th>NUMVOTISI</th>\n",
       "      <th>NUMVOTINO</th>\n",
       "      <th>NUMVOTIBIANCHI</th>\n",
       "      <th>NUMVOTINONVALIDI</th>\n",
       "      <th>NUMVOTICONTESTATI</th>\n",
       "    </tr>\n",
       "  </thead>\n",
       "  <tbody>\n",
       "    <tr>\n",
       "      <th>0</th>\n",
       "      <td>ABRUZZO</td>\n",
       "      <td>CHIETI</td>\n",
       "      <td>ALTINO                                        ...</td>\n",
       "      <td>2288</td>\n",
       "      <td>1101</td>\n",
       "      <td>1496</td>\n",
       "      <td>775</td>\n",
       "      <td>533</td>\n",
       "      <td>953</td>\n",
       "      <td>2</td>\n",
       "      <td>8</td>\n",
       "      <td>0</td>\n",
       "    </tr>\n",
       "    <tr>\n",
       "      <th>1</th>\n",
       "      <td>ABRUZZO</td>\n",
       "      <td>CHIETI</td>\n",
       "      <td>ARCHI                                         ...</td>\n",
       "      <td>1785</td>\n",
       "      <td>861</td>\n",
       "      <td>1241</td>\n",
       "      <td>632</td>\n",
       "      <td>442</td>\n",
       "      <td>782</td>\n",
       "      <td>3</td>\n",
       "      <td>14</td>\n",
       "      <td>0</td>\n",
       "    </tr>\n",
       "    <tr>\n",
       "      <th>2</th>\n",
       "      <td>ABRUZZO</td>\n",
       "      <td>CHIETI</td>\n",
       "      <td>ARI                                           ...</td>\n",
       "      <td>831</td>\n",
       "      <td>402</td>\n",
       "      <td>617</td>\n",
       "      <td>328</td>\n",
       "      <td>241</td>\n",
       "      <td>366</td>\n",
       "      <td>6</td>\n",
       "      <td>4</td>\n",
       "      <td>0</td>\n",
       "    </tr>\n",
       "    <tr>\n",
       "      <th>3</th>\n",
       "      <td>ABRUZZO</td>\n",
       "      <td>CHIETI</td>\n",
       "      <td>ARIELLI                                       ...</td>\n",
       "      <td>939</td>\n",
       "      <td>453</td>\n",
       "      <td>612</td>\n",
       "      <td>304</td>\n",
       "      <td>194</td>\n",
       "      <td>410</td>\n",
       "      <td>1</td>\n",
       "      <td>7</td>\n",
       "      <td>0</td>\n",
       "    </tr>\n",
       "    <tr>\n",
       "      <th>4</th>\n",
       "      <td>ABRUZZO</td>\n",
       "      <td>CHIETI</td>\n",
       "      <td>ATESSA                                        ...</td>\n",
       "      <td>8454</td>\n",
       "      <td>4121</td>\n",
       "      <td>5860</td>\n",
       "      <td>3006</td>\n",
       "      <td>1952</td>\n",
       "      <td>3836</td>\n",
       "      <td>45</td>\n",
       "      <td>27</td>\n",
       "      <td>0</td>\n",
       "    </tr>\n",
       "  </tbody>\n",
       "</table>\n",
       "</div>"
      ],
      "text/plain": [
       "  DESCREGIONE                   DESCPROVINCIA  \\\n",
       "0     ABRUZZO  CHIETI                           \n",
       "1     ABRUZZO  CHIETI                           \n",
       "2     ABRUZZO  CHIETI                           \n",
       "3     ABRUZZO  CHIETI                           \n",
       "4     ABRUZZO  CHIETI                           \n",
       "\n",
       "                                          DESCCOMUNE ELETTORI ELETTORI_M  \\\n",
       "0  ALTINO                                        ...     2288       1101   \n",
       "1  ARCHI                                         ...     1785        861   \n",
       "2  ARI                                           ...      831        402   \n",
       "3  ARIELLI                                       ...      939        453   \n",
       "4  ATESSA                                        ...     8454       4121   \n",
       "\n",
       "  VOTANTI  VOTANTI_M  NUMVOTISI  NUMVOTINO  NUMVOTIBIANCHI  NUMVOTINONVALIDI  \\\n",
       "0    1496        775        533        953               2                 8   \n",
       "1    1241        632        442        782               3                14   \n",
       "2     617        328        241        366               6                 4   \n",
       "3     612        304        194        410               1                 7   \n",
       "4    5860       3006       1952       3836              45                27   \n",
       "\n",
       "   NUMVOTICONTESTATI  \n",
       "0                  0  \n",
       "1                  0  \n",
       "2                  0  \n",
       "3                  0  \n",
       "4                  0  "
      ]
     },
     "execution_count": 241,
     "metadata": {},
     "output_type": "execute_result"
    }
   ],
   "source": [
    "# Print the first 5 rows\n",
    "df.head(5)"
   ]
  },
  {
   "cell_type": "markdown",
   "metadata": {},
   "source": [
    "# Are there missing values ? "
   ]
  },
  {
   "cell_type": "code",
   "execution_count": 242,
   "metadata": {
    "collapsed": false
   },
   "outputs": [
    {
     "data": {
      "text/plain": [
       "DESCREGIONE          False\n",
       "DESCPROVINCIA        False\n",
       "DESCCOMUNE           False\n",
       "ELETTORI             False\n",
       "ELETTORI_M            True\n",
       "VOTANTI              False\n",
       "VOTANTI_M            False\n",
       "NUMVOTISI            False\n",
       "NUMVOTINO            False\n",
       "NUMVOTIBIANCHI       False\n",
       "NUMVOTINONVALIDI     False\n",
       "NUMVOTICONTESTATI    False\n",
       "dtype: bool"
      ]
     },
     "execution_count": 242,
     "metadata": {},
     "output_type": "execute_result"
    }
   ],
   "source": [
    "pd.isnull(df).any()"
   ]
  },
  {
   "cell_type": "code",
   "execution_count": 243,
   "metadata": {
    "collapsed": false
   },
   "outputs": [
    {
     "name": "stdout",
     "output_type": "stream",
     "text": [
      "There is(are) 1 row(s) with at least one null value\n"
     ]
    }
   ],
   "source": [
    "# Dataframe without null elements\n",
    "df_no_null=df.dropna()\n",
    "num_rows_no_null=df_no_null.shape[0]\n",
    "all_rows = df.shape[0]\n",
    "diff = all_rows-num_rows_no_null\n",
    "print('There is(are) {} row(s) with at least one null value'.format(diff))"
   ]
  },
  {
   "cell_type": "code",
   "execution_count": 244,
   "metadata": {
    "collapsed": false
   },
   "outputs": [
    {
     "data": {
      "text/html": [
       "<div>\n",
       "<table border=\"1\" class=\"dataframe\">\n",
       "  <thead>\n",
       "    <tr style=\"text-align: right;\">\n",
       "      <th></th>\n",
       "      <th>DESCREGIONE</th>\n",
       "      <th>DESCPROVINCIA</th>\n",
       "      <th>DESCCOMUNE</th>\n",
       "      <th>ELETTORI</th>\n",
       "      <th>ELETTORI_M</th>\n",
       "      <th>VOTANTI</th>\n",
       "      <th>VOTANTI_M</th>\n",
       "      <th>NUMVOTISI</th>\n",
       "      <th>NUMVOTINO</th>\n",
       "      <th>NUMVOTIBIANCHI</th>\n",
       "      <th>NUMVOTINONVALIDI</th>\n",
       "      <th>NUMVOTICONTESTATI</th>\n",
       "    </tr>\n",
       "  </thead>\n",
       "  <tbody>\n",
       "    <tr>\n",
       "      <th>7612</th>\n",
       "      <td>VENETO</td>\n",
       "      <td>ROVIGO</td>\n",
       "      <td>GAIBA                                         ...</td>\n",
       "      <td>840</td>\n",
       "      <td>NaN</td>\n",
       "      <td>642</td>\n",
       "      <td>320</td>\n",
       "      <td>275</td>\n",
       "      <td>361</td>\n",
       "      <td>3</td>\n",
       "      <td>3</td>\n",
       "      <td>0</td>\n",
       "    </tr>\n",
       "  </tbody>\n",
       "</table>\n",
       "</div>"
      ],
      "text/plain": [
       "     DESCREGIONE                   DESCPROVINCIA  \\\n",
       "7612      VENETO  ROVIGO                           \n",
       "\n",
       "                                             DESCCOMUNE ELETTORI ELETTORI_M  \\\n",
       "7612  GAIBA                                         ...      840        NaN   \n",
       "\n",
       "     VOTANTI  VOTANTI_M  NUMVOTISI  NUMVOTINO  NUMVOTIBIANCHI  \\\n",
       "7612     642        320        275        361               3   \n",
       "\n",
       "      NUMVOTINONVALIDI  NUMVOTICONTESTATI  \n",
       "7612                 3                  0  "
      ]
     },
     "execution_count": 244,
     "metadata": {},
     "output_type": "execute_result"
    }
   ],
   "source": [
    "# Get the line in which there is at least one Null Value\n",
    "df[df.isnull().any(axis=1)]"
   ]
  },
  {
   "cell_type": "raw",
   "metadata": {},
   "source": [
    "How to handle with null values?\n",
    "    - delete the row: in this case the Veneto region results will be wrong. On the other side, the number of elector is so low with respect to the total, that the error would quite insignificant. \n",
    "    - infer in some way its value, by for example calculate the average percentage between the total number of electors and the male electors"
   ]
  },
  {
   "cell_type": "code",
   "execution_count": 245,
   "metadata": {
    "collapsed": false
   },
   "outputs": [
    {
     "data": {
      "text/plain": [
       "DESCREGIONE                                                     VENETO\n",
       "DESCPROVINCIA                           TREVISO                       \n",
       "DESCCOMUNE           CESSALTO                                      ...\n",
       "ELETTORI                                                             ?\n",
       "ELETTORI_M                                                           ?\n",
       "VOTANTI                                                              ?\n",
       "VOTANTI_M                                                          973\n",
       "NUMVOTISI                                                          712\n",
       "NUMVOTINO                                                         1188\n",
       "NUMVOTIBIANCHI                                                       6\n",
       "NUMVOTINONVALIDI                                                    11\n",
       "NUMVOTICONTESTATI                                                    0\n",
       "Name: 7654, dtype: object"
      ]
     },
     "execution_count": 245,
     "metadata": {},
     "output_type": "execute_result"
    }
   ],
   "source": [
    "# Row 7654 affected by other missing values (?)\n",
    "df_no_null.ix[7654]"
   ]
  },
  {
   "cell_type": "code",
   "execution_count": 246,
   "metadata": {
    "collapsed": false
   },
   "outputs": [
    {
     "data": {
      "text/plain": [
       "DESCREGIONE                                                     VENETO\n",
       "DESCPROVINCIA                           ROVIGO                        \n",
       "DESCCOMUNE           FRASSINELLE POLESINE                          ...\n",
       "ELETTORI                                                           Nan\n",
       "ELETTORI_M                                                         585\n",
       "VOTANTI                                                            899\n",
       "VOTANTI_M                                                          467\n",
       "NUMVOTISI                                                          327\n",
       "NUMVOTINO                                                          560\n",
       "NUMVOTIBIANCHI                                                       7\n",
       "NUMVOTINONVALIDI                                                     5\n",
       "NUMVOTICONTESTATI                                                    0\n",
       "Name: 7610, dtype: object"
      ]
     },
     "execution_count": 246,
     "metadata": {},
     "output_type": "execute_result"
    }
   ],
   "source": [
    "# Row 7610 affected by other missing values (Nan)\n",
    "df_no_null.ix[7610]"
   ]
  },
  {
   "cell_type": "code",
   "execution_count": 247,
   "metadata": {
    "collapsed": false
   },
   "outputs": [],
   "source": [
    "df_clean=df.drop(df.index[7610])"
   ]
  },
  {
   "cell_type": "code",
   "execution_count": 248,
   "metadata": {
    "collapsed": false
   },
   "outputs": [],
   "source": [
    "df_clean=df_clean.drop(df.index[7654])"
   ]
  },
  {
   "cell_type": "code",
   "execution_count": 249,
   "metadata": {
    "collapsed": true
   },
   "outputs": [],
   "source": [
    "df_clean=df_clean.drop(df.index[7612])"
   ]
  },
  {
   "cell_type": "code",
   "execution_count": 250,
   "metadata": {
    "collapsed": false
   },
   "outputs": [
    {
     "data": {
      "text/plain": [
       "(7995, 12)"
      ]
     },
     "execution_count": 250,
     "metadata": {},
     "output_type": "execute_result"
    }
   ],
   "source": [
    "df_clean.shape"
   ]
  },
  {
   "cell_type": "code",
   "execution_count": 251,
   "metadata": {
    "collapsed": true
   },
   "outputs": [],
   "source": [
    "# Dirty field to be fixed\n",
    "df_clean.iloc[7964, df.columns.get_loc('ELETTORI')]=893"
   ]
  },
  {
   "cell_type": "code",
   "execution_count": 252,
   "metadata": {
    "collapsed": false
   },
   "outputs": [],
   "source": [
    "# Dirty field to be fixed\n",
    "df_clean.iloc[7975, df.columns.get_loc('ELETTORI')]=3360"
   ]
  },
  {
   "cell_type": "code",
   "execution_count": 253,
   "metadata": {
    "collapsed": false
   },
   "outputs": [
    {
     "data": {
      "text/plain": [
       "(7995, 12)"
      ]
     },
     "execution_count": 253,
     "metadata": {},
     "output_type": "execute_result"
    }
   ],
   "source": [
    "df_clean.shape"
   ]
  },
  {
   "cell_type": "code",
   "execution_count": 254,
   "metadata": {
    "collapsed": false
   },
   "outputs": [
    {
     "data": {
      "text/plain": [
       "0         775\n",
       "1         632\n",
       "2         328\n",
       "3         304\n",
       "4        3006\n",
       "5         239\n",
       "6          97\n",
       "7        1411\n",
       "8         397\n",
       "9         155\n",
       "10        175\n",
       "11        385\n",
       "12        247\n",
       "13       1745\n",
       "14        957\n",
       "15       1532\n",
       "16       1243\n",
       "17        103\n",
       "18        505\n",
       "19        268\n",
       "20      14470\n",
       "21        111\n",
       "22        250\n",
       "23         68\n",
       "24        155\n",
       "25        880\n",
       "26       1237\n",
       "27         89\n",
       "28         35\n",
       "29        497\n",
       "        ...  \n",
       "7968      524\n",
       "7969      436\n",
       "7970     1142\n",
       "7971     2490\n",
       "7972     1821\n",
       "7973     1738\n",
       "7974     1861\n",
       "7975      854\n",
       "7976    10913\n",
       "7977      555\n",
       "7978     1350\n",
       "7979     2332\n",
       "7980     3867\n",
       "7981     6376\n",
       "7982      197\n",
       "7983     1816\n",
       "7984     3504\n",
       "7985     2687\n",
       "7986     7672\n",
       "7987      402\n",
       "7988     1016\n",
       "7989      551\n",
       "7990      767\n",
       "7991    28839\n",
       "7992      625\n",
       "7993     1906\n",
       "7994     2128\n",
       "7995      395\n",
       "7996      262\n",
       "7997     2168\n",
       "Name: VOTANTI_M, dtype: int64"
      ]
     },
     "execution_count": 254,
     "metadata": {},
     "output_type": "execute_result"
    }
   ],
   "source": [
    "# Check if all missing values have been fixed\n",
    "pd.to_numeric(df_clean['VOTANTI_M'])"
   ]
  },
  {
   "cell_type": "code",
   "execution_count": 255,
   "metadata": {
    "collapsed": false
   },
   "outputs": [
    {
     "data": {
      "text/plain": [
       "(7995, 12)"
      ]
     },
     "execution_count": 255,
     "metadata": {},
     "output_type": "execute_result"
    }
   ],
   "source": [
    "df_clean.shape"
   ]
  },
  {
   "cell_type": "markdown",
   "metadata": {},
   "source": [
    "# Analysis on string columns: DESCREGION"
   ]
  },
  {
   "cell_type": "code",
   "execution_count": 256,
   "metadata": {
    "collapsed": false
   },
   "outputs": [
    {
     "data": {
      "text/plain": [
       "array(['ABRUZZO', 'BASILICATA', 'CALABRIA', 'CALABRIA    ', 'CAMPANIA',\n",
       "       'EMILIA-ROMAGNA', 'FRIULI-VENEZIA GIULIA', 'LAZIO', 'LIGURIA',\n",
       "       'LOMBARDIA', 'MARCHE', 'MOLISE', 'PIEMONTE', 'PUGLIA', 'SARDEGNA',\n",
       "       'SICILIA', 'SICLIA', 'TOSCANA', 'TRENTINO-ALTO ADIGE', 'UMBRIA',\n",
       "       \"VALLE D'AOSTA\", 'VENETO'], dtype=object)"
      ]
     },
     "execution_count": 256,
     "metadata": {},
     "output_type": "execute_result"
    }
   ],
   "source": [
    "regions_series = df_clean.DESCREGIONE\n",
    "regions_series.unique()"
   ]
  },
  {
   "cell_type": "code",
   "execution_count": 257,
   "metadata": {
    "collapsed": false
   },
   "outputs": [
    {
     "data": {
      "text/html": [
       "<div>\n",
       "<table border=\"1\" class=\"dataframe\">\n",
       "  <thead>\n",
       "    <tr style=\"text-align: right;\">\n",
       "      <th></th>\n",
       "      <th>DESCREGIONE</th>\n",
       "      <th>DESCPROVINCIA</th>\n",
       "      <th>DESCCOMUNE</th>\n",
       "      <th>ELETTORI</th>\n",
       "      <th>ELETTORI_M</th>\n",
       "      <th>VOTANTI</th>\n",
       "      <th>VOTANTI_M</th>\n",
       "      <th>NUMVOTISI</th>\n",
       "      <th>NUMVOTINO</th>\n",
       "      <th>NUMVOTIBIANCHI</th>\n",
       "      <th>NUMVOTINONVALIDI</th>\n",
       "      <th>NUMVOTICONTESTATI</th>\n",
       "    </tr>\n",
       "  </thead>\n",
       "  <tbody>\n",
       "    <tr>\n",
       "      <th>6399</th>\n",
       "      <td>SICLIA</td>\n",
       "      <td>CATANIA</td>\n",
       "      <td>RANDAZZO                                      ...</td>\n",
       "      <td>8919</td>\n",
       "      <td>4223</td>\n",
       "      <td>5173</td>\n",
       "      <td>2645</td>\n",
       "      <td>1384</td>\n",
       "      <td>3733</td>\n",
       "      <td>16</td>\n",
       "      <td>40</td>\n",
       "      <td>0</td>\n",
       "    </tr>\n",
       "  </tbody>\n",
       "</table>\n",
       "</div>"
      ],
      "text/plain": [
       "     DESCREGIONE                   DESCPROVINCIA  \\\n",
       "6399      SICLIA  CATANIA                          \n",
       "\n",
       "                                             DESCCOMUNE ELETTORI ELETTORI_M  \\\n",
       "6399  RANDAZZO                                      ...     8919       4223   \n",
       "\n",
       "     VOTANTI  VOTANTI_M  NUMVOTISI  NUMVOTINO  NUMVOTIBIANCHI  \\\n",
       "6399    5173       2645       1384       3733              16   \n",
       "\n",
       "      NUMVOTINONVALIDI  NUMVOTICONTESTATI  \n",
       "6399                40                  0  "
      ]
     },
     "execution_count": 257,
     "metadata": {},
     "output_type": "execute_result"
    }
   ],
   "source": [
    "# There are some typo errors in regions' name \n",
    "# SICLIA -> SICILIA\n",
    "df_clean.loc[df_clean['DESCREGIONE'] == \"SICLIA\"]"
   ]
  },
  {
   "cell_type": "code",
   "execution_count": 258,
   "metadata": {
    "collapsed": false
   },
   "outputs": [],
   "source": [
    "df_clean.iloc[6399, df.columns.get_loc('DESCREGIONE')]=\"SICILIA\""
   ]
  },
  {
   "cell_type": "code",
   "execution_count": 259,
   "metadata": {
    "collapsed": false
   },
   "outputs": [
    {
     "data": {
      "text/plain": [
       "array(['ABRUZZO', 'BASILICATA', 'CALABRIA', 'CALABRIA    ', 'CAMPANIA',\n",
       "       'EMILIA-ROMAGNA', 'FRIULI-VENEZIA GIULIA', 'LAZIO', 'LIGURIA',\n",
       "       'LOMBARDIA', 'MARCHE', 'MOLISE', 'PIEMONTE', 'PUGLIA', 'SARDEGNA',\n",
       "       'SICILIA', 'TOSCANA', 'TRENTINO-ALTO ADIGE', 'UMBRIA',\n",
       "       \"VALLE D'AOSTA\", 'VENETO'], dtype=object)"
      ]
     },
     "execution_count": 259,
     "metadata": {},
     "output_type": "execute_result"
    }
   ],
   "source": [
    "regions_series = df_clean.DESCREGIONE\n",
    "regions_series.unique()"
   ]
  },
  {
   "cell_type": "code",
   "execution_count": 260,
   "metadata": {
    "collapsed": false
   },
   "outputs": [
    {
     "data": {
      "text/html": [
       "<div>\n",
       "<table border=\"1\" class=\"dataframe\">\n",
       "  <thead>\n",
       "    <tr style=\"text-align: right;\">\n",
       "      <th></th>\n",
       "      <th>DESCREGIONE</th>\n",
       "      <th>DESCPROVINCIA</th>\n",
       "      <th>DESCCOMUNE</th>\n",
       "      <th>ELETTORI</th>\n",
       "      <th>ELETTORI_M</th>\n",
       "      <th>VOTANTI</th>\n",
       "      <th>VOTANTI_M</th>\n",
       "      <th>NUMVOTISI</th>\n",
       "      <th>NUMVOTINO</th>\n",
       "      <th>NUMVOTIBIANCHI</th>\n",
       "      <th>NUMVOTINONVALIDI</th>\n",
       "      <th>NUMVOTICONTESTATI</th>\n",
       "    </tr>\n",
       "  </thead>\n",
       "  <tbody>\n",
       "    <tr>\n",
       "      <th>651</th>\n",
       "      <td>CALABRIA</td>\n",
       "      <td>COSENZA</td>\n",
       "      <td>SARACENA                                      ...</td>\n",
       "      <td>3241</td>\n",
       "      <td>1593</td>\n",
       "      <td>1775</td>\n",
       "      <td>938</td>\n",
       "      <td>723</td>\n",
       "      <td>1032</td>\n",
       "      <td>7</td>\n",
       "      <td>13</td>\n",
       "      <td>0</td>\n",
       "    </tr>\n",
       "  </tbody>\n",
       "</table>\n",
       "</div>"
      ],
      "text/plain": [
       "      DESCREGIONE                   DESCPROVINCIA  \\\n",
       "651  CALABRIA      COSENZA                          \n",
       "\n",
       "                                            DESCCOMUNE ELETTORI ELETTORI_M  \\\n",
       "651  SARACENA                                      ...     3241       1593   \n",
       "\n",
       "    VOTANTI  VOTANTI_M  NUMVOTISI  NUMVOTINO  NUMVOTIBIANCHI  \\\n",
       "651    1775        938        723       1032               7   \n",
       "\n",
       "     NUMVOTINONVALIDI  NUMVOTICONTESTATI  \n",
       "651                13                  0  "
      ]
     },
     "execution_count": 260,
     "metadata": {},
     "output_type": "execute_result"
    }
   ],
   "source": [
    "# There are some typo errors in regions' name \n",
    "# CALABRIA     -> CALABRIA\n",
    "df_clean.loc[df_clean['DESCREGIONE'] == \"CALABRIA    \"]"
   ]
  },
  {
   "cell_type": "code",
   "execution_count": 261,
   "metadata": {
    "collapsed": false
   },
   "outputs": [],
   "source": [
    "df_clean.iloc[651, df.columns.get_loc('DESCREGIONE')]=\"CALABRIA\""
   ]
  },
  {
   "cell_type": "code",
   "execution_count": 262,
   "metadata": {
    "collapsed": false
   },
   "outputs": [
    {
     "data": {
      "text/plain": [
       "array(['ABRUZZO', 'BASILICATA', 'CALABRIA', 'CAMPANIA', 'EMILIA-ROMAGNA',\n",
       "       'FRIULI-VENEZIA GIULIA', 'LAZIO', 'LIGURIA', 'LOMBARDIA', 'MARCHE',\n",
       "       'MOLISE', 'PIEMONTE', 'PUGLIA', 'SARDEGNA', 'SICILIA', 'TOSCANA',\n",
       "       'TRENTINO-ALTO ADIGE', 'UMBRIA', \"VALLE D'AOSTA\", 'VENETO'], dtype=object)"
      ]
     },
     "execution_count": 262,
     "metadata": {},
     "output_type": "execute_result"
    }
   ],
   "source": [
    "regions_series = df_clean.DESCREGIONE\n",
    "regions_series.unique()"
   ]
  },
  {
   "cell_type": "code",
   "execution_count": 263,
   "metadata": {
    "collapsed": false
   },
   "outputs": [
    {
     "data": {
      "text/plain": [
       "(7995, 12)"
      ]
     },
     "execution_count": 263,
     "metadata": {},
     "output_type": "execute_result"
    }
   ],
   "source": [
    "df_clean.shape"
   ]
  },
  {
   "cell_type": "markdown",
   "metadata": {},
   "source": [
    "mispelling errors fixed"
   ]
  },
  {
   "cell_type": "markdown",
   "metadata": {},
   "source": [
    "# Any incosistent number ?"
   ]
  },
  {
   "cell_type": "code",
   "execution_count": 264,
   "metadata": {
    "collapsed": false
   },
   "outputs": [
    {
     "data": {
      "text/html": [
       "<div>\n",
       "<table border=\"1\" class=\"dataframe\">\n",
       "  <thead>\n",
       "    <tr style=\"text-align: right;\">\n",
       "      <th></th>\n",
       "      <th>DESCREGIONE</th>\n",
       "      <th>DESCPROVINCIA</th>\n",
       "      <th>DESCCOMUNE</th>\n",
       "      <th>ELETTORI</th>\n",
       "      <th>ELETTORI_M</th>\n",
       "      <th>VOTANTI</th>\n",
       "      <th>VOTANTI_M</th>\n",
       "      <th>NUMVOTISI</th>\n",
       "      <th>NUMVOTINO</th>\n",
       "      <th>NUMVOTIBIANCHI</th>\n",
       "      <th>NUMVOTINONVALIDI</th>\n",
       "      <th>NUMVOTICONTESTATI</th>\n",
       "    </tr>\n",
       "  </thead>\n",
       "  <tbody>\n",
       "    <tr>\n",
       "      <th>7342</th>\n",
       "      <td>UMBRIA</td>\n",
       "      <td>TERNI</td>\n",
       "      <td>POLINO                                        ...</td>\n",
       "      <td>206</td>\n",
       "      <td>110</td>\n",
       "      <td>156</td>\n",
       "      <td>83</td>\n",
       "      <td>89</td>\n",
       "      <td>1000000</td>\n",
       "      <td>0</td>\n",
       "      <td>4</td>\n",
       "      <td>0</td>\n",
       "    </tr>\n",
       "    <tr>\n",
       "      <th>7978</th>\n",
       "      <td>VENETO</td>\n",
       "      <td>VICENZA</td>\n",
       "      <td>SOSSANO                                       ...</td>\n",
       "      <td>3360</td>\n",
       "      <td>1694</td>\n",
       "      <td>-2629</td>\n",
       "      <td>1350</td>\n",
       "      <td>842</td>\n",
       "      <td>1761</td>\n",
       "      <td>6</td>\n",
       "      <td>20</td>\n",
       "      <td>0</td>\n",
       "    </tr>\n",
       "  </tbody>\n",
       "</table>\n",
       "</div>"
      ],
      "text/plain": [
       "     DESCREGIONE                   DESCPROVINCIA  \\\n",
       "7342      UMBRIA  TERNI                            \n",
       "7978      VENETO  VICENZA                          \n",
       "\n",
       "                                             DESCCOMUNE ELETTORI ELETTORI_M  \\\n",
       "7342  POLINO                                        ...      206        110   \n",
       "7978  SOSSANO                                       ...     3360       1694   \n",
       "\n",
       "     VOTANTI  VOTANTI_M  NUMVOTISI  NUMVOTINO  NUMVOTIBIANCHI  \\\n",
       "7342     156         83         89    1000000               0   \n",
       "7978   -2629       1350        842       1761               6   \n",
       "\n",
       "      NUMVOTINONVALIDI  NUMVOTICONTESTATI  \n",
       "7342                 4                  0  \n",
       "7978                20                  0  "
      ]
     },
     "execution_count": 264,
     "metadata": {},
     "output_type": "execute_result"
    }
   ],
   "source": [
    "df_clean.loc[pd.to_numeric(df_clean['NUMVOTINO']) > pd.to_numeric(df_clean['VOTANTI'])]"
   ]
  },
  {
   "cell_type": "code",
   "execution_count": 265,
   "metadata": {
    "collapsed": false
   },
   "outputs": [
    {
     "data": {
      "text/html": [
       "<div>\n",
       "<table border=\"1\" class=\"dataframe\">\n",
       "  <thead>\n",
       "    <tr style=\"text-align: right;\">\n",
       "      <th></th>\n",
       "      <th>DESCREGIONE</th>\n",
       "      <th>DESCPROVINCIA</th>\n",
       "      <th>DESCCOMUNE</th>\n",
       "      <th>ELETTORI</th>\n",
       "      <th>ELETTORI_M</th>\n",
       "      <th>VOTANTI</th>\n",
       "      <th>VOTANTI_M</th>\n",
       "      <th>NUMVOTISI</th>\n",
       "      <th>NUMVOTINO</th>\n",
       "      <th>NUMVOTIBIANCHI</th>\n",
       "      <th>NUMVOTINONVALIDI</th>\n",
       "      <th>NUMVOTICONTESTATI</th>\n",
       "    </tr>\n",
       "  </thead>\n",
       "  <tbody>\n",
       "  </tbody>\n",
       "</table>\n",
       "</div>"
      ],
      "text/plain": [
       "Empty DataFrame\n",
       "Columns: [DESCREGIONE, DESCPROVINCIA, DESCCOMUNE, ELETTORI, ELETTORI_M, VOTANTI, VOTANTI_M, NUMVOTISI, NUMVOTINO, NUMVOTIBIANCHI, NUMVOTINONVALIDI, NUMVOTICONTESTATI]\n",
       "Index: []"
      ]
     },
     "execution_count": 265,
     "metadata": {},
     "output_type": "execute_result"
    }
   ],
   "source": [
    "df_clean.loc[pd.to_numeric(df_clean['VOTANTI']) > pd.to_numeric(df_clean['ELETTORI'])]"
   ]
  },
  {
   "cell_type": "code",
   "execution_count": 266,
   "metadata": {
    "collapsed": false
   },
   "outputs": [
    {
     "data": {
      "text/html": [
       "<div>\n",
       "<table border=\"1\" class=\"dataframe\">\n",
       "  <thead>\n",
       "    <tr style=\"text-align: right;\">\n",
       "      <th></th>\n",
       "      <th>DESCREGIONE</th>\n",
       "      <th>DESCPROVINCIA</th>\n",
       "      <th>DESCCOMUNE</th>\n",
       "      <th>ELETTORI</th>\n",
       "      <th>ELETTORI_M</th>\n",
       "      <th>VOTANTI</th>\n",
       "      <th>VOTANTI_M</th>\n",
       "      <th>NUMVOTISI</th>\n",
       "      <th>NUMVOTINO</th>\n",
       "      <th>NUMVOTIBIANCHI</th>\n",
       "      <th>NUMVOTINONVALIDI</th>\n",
       "      <th>NUMVOTICONTESTATI</th>\n",
       "    </tr>\n",
       "  </thead>\n",
       "  <tbody>\n",
       "  </tbody>\n",
       "</table>\n",
       "</div>"
      ],
      "text/plain": [
       "Empty DataFrame\n",
       "Columns: [DESCREGIONE, DESCPROVINCIA, DESCCOMUNE, ELETTORI, ELETTORI_M, VOTANTI, VOTANTI_M, NUMVOTISI, NUMVOTINO, NUMVOTIBIANCHI, NUMVOTINONVALIDI, NUMVOTICONTESTATI]\n",
       "Index: []"
      ]
     },
     "execution_count": 266,
     "metadata": {},
     "output_type": "execute_result"
    }
   ],
   "source": [
    "df_clean.loc[pd.to_numeric(df_clean['ELETTORI_M']) > pd.to_numeric(df_clean['ELETTORI'])]"
   ]
  },
  {
   "cell_type": "code",
   "execution_count": 267,
   "metadata": {
    "collapsed": false
   },
   "outputs": [
    {
     "data": {
      "text/html": [
       "<div>\n",
       "<table border=\"1\" class=\"dataframe\">\n",
       "  <thead>\n",
       "    <tr style=\"text-align: right;\">\n",
       "      <th></th>\n",
       "      <th>DESCREGIONE</th>\n",
       "      <th>DESCPROVINCIA</th>\n",
       "      <th>DESCCOMUNE</th>\n",
       "      <th>ELETTORI</th>\n",
       "      <th>ELETTORI_M</th>\n",
       "      <th>VOTANTI</th>\n",
       "      <th>VOTANTI_M</th>\n",
       "      <th>NUMVOTISI</th>\n",
       "      <th>NUMVOTINO</th>\n",
       "      <th>NUMVOTIBIANCHI</th>\n",
       "      <th>NUMVOTINONVALIDI</th>\n",
       "      <th>NUMVOTICONTESTATI</th>\n",
       "    </tr>\n",
       "  </thead>\n",
       "  <tbody>\n",
       "    <tr>\n",
       "      <th>7978</th>\n",
       "      <td>VENETO</td>\n",
       "      <td>VICENZA</td>\n",
       "      <td>SOSSANO                                       ...</td>\n",
       "      <td>3360</td>\n",
       "      <td>1694</td>\n",
       "      <td>-2629</td>\n",
       "      <td>1350</td>\n",
       "      <td>842</td>\n",
       "      <td>1761</td>\n",
       "      <td>6</td>\n",
       "      <td>20</td>\n",
       "      <td>0</td>\n",
       "    </tr>\n",
       "  </tbody>\n",
       "</table>\n",
       "</div>"
      ],
      "text/plain": [
       "     DESCREGIONE                   DESCPROVINCIA  \\\n",
       "7978      VENETO  VICENZA                          \n",
       "\n",
       "                                             DESCCOMUNE ELETTORI ELETTORI_M  \\\n",
       "7978  SOSSANO                                       ...     3360       1694   \n",
       "\n",
       "     VOTANTI  VOTANTI_M  NUMVOTISI  NUMVOTINO  NUMVOTIBIANCHI  \\\n",
       "7978   -2629       1350        842       1761               6   \n",
       "\n",
       "      NUMVOTINONVALIDI  NUMVOTICONTESTATI  \n",
       "7978                20                  0  "
      ]
     },
     "execution_count": 267,
     "metadata": {},
     "output_type": "execute_result"
    }
   ],
   "source": [
    "df_clean.loc[pd.to_numeric(df_clean['VOTANTI_M']) > pd.to_numeric(df_clean['VOTANTI'])]"
   ]
  },
  {
   "cell_type": "code",
   "execution_count": 268,
   "metadata": {
    "collapsed": false
   },
   "outputs": [
    {
     "data": {
      "text/html": [
       "<div>\n",
       "<table border=\"1\" class=\"dataframe\">\n",
       "  <thead>\n",
       "    <tr style=\"text-align: right;\">\n",
       "      <th></th>\n",
       "      <th>DESCREGIONE</th>\n",
       "      <th>DESCPROVINCIA</th>\n",
       "      <th>DESCCOMUNE</th>\n",
       "      <th>ELETTORI</th>\n",
       "      <th>ELETTORI_M</th>\n",
       "      <th>VOTANTI</th>\n",
       "      <th>VOTANTI_M</th>\n",
       "      <th>NUMVOTISI</th>\n",
       "      <th>NUMVOTINO</th>\n",
       "      <th>NUMVOTIBIANCHI</th>\n",
       "      <th>NUMVOTINONVALIDI</th>\n",
       "      <th>NUMVOTICONTESTATI</th>\n",
       "    </tr>\n",
       "  </thead>\n",
       "  <tbody>\n",
       "    <tr>\n",
       "      <th>7978</th>\n",
       "      <td>VENETO</td>\n",
       "      <td>VICENZA</td>\n",
       "      <td>SOSSANO                                       ...</td>\n",
       "      <td>3360</td>\n",
       "      <td>1694</td>\n",
       "      <td>-2629</td>\n",
       "      <td>1350</td>\n",
       "      <td>842</td>\n",
       "      <td>1761</td>\n",
       "      <td>6</td>\n",
       "      <td>20</td>\n",
       "      <td>0</td>\n",
       "    </tr>\n",
       "  </tbody>\n",
       "</table>\n",
       "</div>"
      ],
      "text/plain": [
       "     DESCREGIONE                   DESCPROVINCIA  \\\n",
       "7978      VENETO  VICENZA                          \n",
       "\n",
       "                                             DESCCOMUNE ELETTORI ELETTORI_M  \\\n",
       "7978  SOSSANO                                       ...     3360       1694   \n",
       "\n",
       "     VOTANTI  VOTANTI_M  NUMVOTISI  NUMVOTINO  NUMVOTIBIANCHI  \\\n",
       "7978   -2629       1350        842       1761               6   \n",
       "\n",
       "      NUMVOTINONVALIDI  NUMVOTICONTESTATI  \n",
       "7978                20                  0  "
      ]
     },
     "execution_count": 268,
     "metadata": {},
     "output_type": "execute_result"
    }
   ],
   "source": [
    "df_clean.loc[pd.to_numeric(df_clean['NUMVOTISI']) > pd.to_numeric(df_clean['VOTANTI'])]"
   ]
  },
  {
   "cell_type": "code",
   "execution_count": 269,
   "metadata": {
    "collapsed": false
   },
   "outputs": [
    {
     "data": {
      "text/html": [
       "<div>\n",
       "<table border=\"1\" class=\"dataframe\">\n",
       "  <thead>\n",
       "    <tr style=\"text-align: right;\">\n",
       "      <th></th>\n",
       "      <th>DESCREGIONE</th>\n",
       "      <th>DESCPROVINCIA</th>\n",
       "      <th>DESCCOMUNE</th>\n",
       "      <th>ELETTORI</th>\n",
       "      <th>ELETTORI_M</th>\n",
       "      <th>VOTANTI</th>\n",
       "      <th>VOTANTI_M</th>\n",
       "      <th>NUMVOTISI</th>\n",
       "      <th>NUMVOTINO</th>\n",
       "      <th>NUMVOTIBIANCHI</th>\n",
       "      <th>NUMVOTINONVALIDI</th>\n",
       "      <th>NUMVOTICONTESTATI</th>\n",
       "    </tr>\n",
       "  </thead>\n",
       "  <tbody>\n",
       "  </tbody>\n",
       "</table>\n",
       "</div>"
      ],
      "text/plain": [
       "Empty DataFrame\n",
       "Columns: [DESCREGIONE, DESCPROVINCIA, DESCCOMUNE, ELETTORI, ELETTORI_M, VOTANTI, VOTANTI_M, NUMVOTISI, NUMVOTINO, NUMVOTIBIANCHI, NUMVOTINONVALIDI, NUMVOTICONTESTATI]\n",
       "Index: []"
      ]
     },
     "execution_count": 269,
     "metadata": {},
     "output_type": "execute_result"
    }
   ],
   "source": [
    "df_clean.loc[pd.to_numeric(df_clean['ELETTORI']) < 0]"
   ]
  },
  {
   "cell_type": "code",
   "execution_count": 270,
   "metadata": {
    "collapsed": false
   },
   "outputs": [
    {
     "data": {
      "text/html": [
       "<div>\n",
       "<table border=\"1\" class=\"dataframe\">\n",
       "  <thead>\n",
       "    <tr style=\"text-align: right;\">\n",
       "      <th></th>\n",
       "      <th>DESCREGIONE</th>\n",
       "      <th>DESCPROVINCIA</th>\n",
       "      <th>DESCCOMUNE</th>\n",
       "      <th>ELETTORI</th>\n",
       "      <th>ELETTORI_M</th>\n",
       "      <th>VOTANTI</th>\n",
       "      <th>VOTANTI_M</th>\n",
       "      <th>NUMVOTISI</th>\n",
       "      <th>NUMVOTINO</th>\n",
       "      <th>NUMVOTIBIANCHI</th>\n",
       "      <th>NUMVOTINONVALIDI</th>\n",
       "      <th>NUMVOTICONTESTATI</th>\n",
       "    </tr>\n",
       "  </thead>\n",
       "  <tbody>\n",
       "  </tbody>\n",
       "</table>\n",
       "</div>"
      ],
      "text/plain": [
       "Empty DataFrame\n",
       "Columns: [DESCREGIONE, DESCPROVINCIA, DESCCOMUNE, ELETTORI, ELETTORI_M, VOTANTI, VOTANTI_M, NUMVOTISI, NUMVOTINO, NUMVOTIBIANCHI, NUMVOTINONVALIDI, NUMVOTICONTESTATI]\n",
       "Index: []"
      ]
     },
     "execution_count": 270,
     "metadata": {},
     "output_type": "execute_result"
    }
   ],
   "source": [
    "df_clean.loc[pd.to_numeric(df_clean['ELETTORI_M']) < 0]"
   ]
  },
  {
   "cell_type": "code",
   "execution_count": 271,
   "metadata": {
    "collapsed": false
   },
   "outputs": [
    {
     "data": {
      "text/html": [
       "<div>\n",
       "<table border=\"1\" class=\"dataframe\">\n",
       "  <thead>\n",
       "    <tr style=\"text-align: right;\">\n",
       "      <th></th>\n",
       "      <th>DESCREGIONE</th>\n",
       "      <th>DESCPROVINCIA</th>\n",
       "      <th>DESCCOMUNE</th>\n",
       "      <th>ELETTORI</th>\n",
       "      <th>ELETTORI_M</th>\n",
       "      <th>VOTANTI</th>\n",
       "      <th>VOTANTI_M</th>\n",
       "      <th>NUMVOTISI</th>\n",
       "      <th>NUMVOTINO</th>\n",
       "      <th>NUMVOTIBIANCHI</th>\n",
       "      <th>NUMVOTINONVALIDI</th>\n",
       "      <th>NUMVOTICONTESTATI</th>\n",
       "    </tr>\n",
       "  </thead>\n",
       "  <tbody>\n",
       "    <tr>\n",
       "      <th>7978</th>\n",
       "      <td>VENETO</td>\n",
       "      <td>VICENZA</td>\n",
       "      <td>SOSSANO                                       ...</td>\n",
       "      <td>3360</td>\n",
       "      <td>1694</td>\n",
       "      <td>-2629</td>\n",
       "      <td>1350</td>\n",
       "      <td>842</td>\n",
       "      <td>1761</td>\n",
       "      <td>6</td>\n",
       "      <td>20</td>\n",
       "      <td>0</td>\n",
       "    </tr>\n",
       "  </tbody>\n",
       "</table>\n",
       "</div>"
      ],
      "text/plain": [
       "     DESCREGIONE                   DESCPROVINCIA  \\\n",
       "7978      VENETO  VICENZA                          \n",
       "\n",
       "                                             DESCCOMUNE ELETTORI ELETTORI_M  \\\n",
       "7978  SOSSANO                                       ...     3360       1694   \n",
       "\n",
       "     VOTANTI  VOTANTI_M  NUMVOTISI  NUMVOTINO  NUMVOTIBIANCHI  \\\n",
       "7978   -2629       1350        842       1761               6   \n",
       "\n",
       "      NUMVOTINONVALIDI  NUMVOTICONTESTATI  \n",
       "7978                20                  0  "
      ]
     },
     "execution_count": 271,
     "metadata": {},
     "output_type": "execute_result"
    }
   ],
   "source": [
    "df_clean.loc[pd.to_numeric(df_clean['VOTANTI']) < 0]"
   ]
  },
  {
   "cell_type": "code",
   "execution_count": 272,
   "metadata": {
    "collapsed": false
   },
   "outputs": [
    {
     "data": {
      "text/html": [
       "<div>\n",
       "<table border=\"1\" class=\"dataframe\">\n",
       "  <thead>\n",
       "    <tr style=\"text-align: right;\">\n",
       "      <th></th>\n",
       "      <th>DESCREGIONE</th>\n",
       "      <th>DESCPROVINCIA</th>\n",
       "      <th>DESCCOMUNE</th>\n",
       "      <th>ELETTORI</th>\n",
       "      <th>ELETTORI_M</th>\n",
       "      <th>VOTANTI</th>\n",
       "      <th>VOTANTI_M</th>\n",
       "      <th>NUMVOTISI</th>\n",
       "      <th>NUMVOTINO</th>\n",
       "      <th>NUMVOTIBIANCHI</th>\n",
       "      <th>NUMVOTINONVALIDI</th>\n",
       "      <th>NUMVOTICONTESTATI</th>\n",
       "    </tr>\n",
       "  </thead>\n",
       "  <tbody>\n",
       "  </tbody>\n",
       "</table>\n",
       "</div>"
      ],
      "text/plain": [
       "Empty DataFrame\n",
       "Columns: [DESCREGIONE, DESCPROVINCIA, DESCCOMUNE, ELETTORI, ELETTORI_M, VOTANTI, VOTANTI_M, NUMVOTISI, NUMVOTINO, NUMVOTIBIANCHI, NUMVOTINONVALIDI, NUMVOTICONTESTATI]\n",
       "Index: []"
      ]
     },
     "execution_count": 272,
     "metadata": {},
     "output_type": "execute_result"
    }
   ],
   "source": [
    "df_clean.loc[pd.to_numeric(df_clean['NUMVOTISI']) < 0]"
   ]
  },
  {
   "cell_type": "code",
   "execution_count": 273,
   "metadata": {
    "collapsed": false
   },
   "outputs": [
    {
     "data": {
      "text/html": [
       "<div>\n",
       "<table border=\"1\" class=\"dataframe\">\n",
       "  <thead>\n",
       "    <tr style=\"text-align: right;\">\n",
       "      <th></th>\n",
       "      <th>DESCREGIONE</th>\n",
       "      <th>DESCPROVINCIA</th>\n",
       "      <th>DESCCOMUNE</th>\n",
       "      <th>ELETTORI</th>\n",
       "      <th>ELETTORI_M</th>\n",
       "      <th>VOTANTI</th>\n",
       "      <th>VOTANTI_M</th>\n",
       "      <th>NUMVOTISI</th>\n",
       "      <th>NUMVOTINO</th>\n",
       "      <th>NUMVOTIBIANCHI</th>\n",
       "      <th>NUMVOTINONVALIDI</th>\n",
       "      <th>NUMVOTICONTESTATI</th>\n",
       "    </tr>\n",
       "  </thead>\n",
       "  <tbody>\n",
       "  </tbody>\n",
       "</table>\n",
       "</div>"
      ],
      "text/plain": [
       "Empty DataFrame\n",
       "Columns: [DESCREGIONE, DESCPROVINCIA, DESCCOMUNE, ELETTORI, ELETTORI_M, VOTANTI, VOTANTI_M, NUMVOTISI, NUMVOTINO, NUMVOTIBIANCHI, NUMVOTINONVALIDI, NUMVOTICONTESTATI]\n",
       "Index: []"
      ]
     },
     "execution_count": 273,
     "metadata": {},
     "output_type": "execute_result"
    }
   ],
   "source": [
    "df_clean.loc[pd.to_numeric(df_clean['NUMVOTINO']) < 0]"
   ]
  },
  {
   "cell_type": "code",
   "execution_count": 274,
   "metadata": {
    "collapsed": false
   },
   "outputs": [
    {
     "data": {
      "text/html": [
       "<div>\n",
       "<table border=\"1\" class=\"dataframe\">\n",
       "  <thead>\n",
       "    <tr style=\"text-align: right;\">\n",
       "      <th></th>\n",
       "      <th>DESCREGIONE</th>\n",
       "      <th>DESCPROVINCIA</th>\n",
       "      <th>DESCCOMUNE</th>\n",
       "      <th>ELETTORI</th>\n",
       "      <th>ELETTORI_M</th>\n",
       "      <th>VOTANTI</th>\n",
       "      <th>VOTANTI_M</th>\n",
       "      <th>NUMVOTISI</th>\n",
       "      <th>NUMVOTINO</th>\n",
       "      <th>NUMVOTIBIANCHI</th>\n",
       "      <th>NUMVOTINONVALIDI</th>\n",
       "      <th>NUMVOTICONTESTATI</th>\n",
       "    </tr>\n",
       "  </thead>\n",
       "  <tbody>\n",
       "  </tbody>\n",
       "</table>\n",
       "</div>"
      ],
      "text/plain": [
       "Empty DataFrame\n",
       "Columns: [DESCREGIONE, DESCPROVINCIA, DESCCOMUNE, ELETTORI, ELETTORI_M, VOTANTI, VOTANTI_M, NUMVOTISI, NUMVOTINO, NUMVOTIBIANCHI, NUMVOTINONVALIDI, NUMVOTICONTESTATI]\n",
       "Index: []"
      ]
     },
     "execution_count": 274,
     "metadata": {},
     "output_type": "execute_result"
    }
   ],
   "source": [
    "df_clean.loc[pd.to_numeric(df_clean['NUMVOTIBIANCHI']) < 0]"
   ]
  },
  {
   "cell_type": "code",
   "execution_count": 275,
   "metadata": {
    "collapsed": false
   },
   "outputs": [
    {
     "data": {
      "text/html": [
       "<div>\n",
       "<table border=\"1\" class=\"dataframe\">\n",
       "  <thead>\n",
       "    <tr style=\"text-align: right;\">\n",
       "      <th></th>\n",
       "      <th>DESCREGIONE</th>\n",
       "      <th>DESCPROVINCIA</th>\n",
       "      <th>DESCCOMUNE</th>\n",
       "      <th>ELETTORI</th>\n",
       "      <th>ELETTORI_M</th>\n",
       "      <th>VOTANTI</th>\n",
       "      <th>VOTANTI_M</th>\n",
       "      <th>NUMVOTISI</th>\n",
       "      <th>NUMVOTINO</th>\n",
       "      <th>NUMVOTIBIANCHI</th>\n",
       "      <th>NUMVOTINONVALIDI</th>\n",
       "      <th>NUMVOTICONTESTATI</th>\n",
       "    </tr>\n",
       "  </thead>\n",
       "  <tbody>\n",
       "  </tbody>\n",
       "</table>\n",
       "</div>"
      ],
      "text/plain": [
       "Empty DataFrame\n",
       "Columns: [DESCREGIONE, DESCPROVINCIA, DESCCOMUNE, ELETTORI, ELETTORI_M, VOTANTI, VOTANTI_M, NUMVOTISI, NUMVOTINO, NUMVOTIBIANCHI, NUMVOTINONVALIDI, NUMVOTICONTESTATI]\n",
       "Index: []"
      ]
     },
     "execution_count": 275,
     "metadata": {},
     "output_type": "execute_result"
    }
   ],
   "source": [
    "df_clean.loc[pd.to_numeric(df_clean['NUMVOTINONVALIDI']) < 0]"
   ]
  },
  {
   "cell_type": "code",
   "execution_count": 276,
   "metadata": {
    "collapsed": false
   },
   "outputs": [
    {
     "data": {
      "text/html": [
       "<div>\n",
       "<table border=\"1\" class=\"dataframe\">\n",
       "  <thead>\n",
       "    <tr style=\"text-align: right;\">\n",
       "      <th></th>\n",
       "      <th>DESCREGIONE</th>\n",
       "      <th>DESCPROVINCIA</th>\n",
       "      <th>DESCCOMUNE</th>\n",
       "      <th>ELETTORI</th>\n",
       "      <th>ELETTORI_M</th>\n",
       "      <th>VOTANTI</th>\n",
       "      <th>VOTANTI_M</th>\n",
       "      <th>NUMVOTISI</th>\n",
       "      <th>NUMVOTINO</th>\n",
       "      <th>NUMVOTIBIANCHI</th>\n",
       "      <th>NUMVOTINONVALIDI</th>\n",
       "      <th>NUMVOTICONTESTATI</th>\n",
       "    </tr>\n",
       "  </thead>\n",
       "  <tbody>\n",
       "  </tbody>\n",
       "</table>\n",
       "</div>"
      ],
      "text/plain": [
       "Empty DataFrame\n",
       "Columns: [DESCREGIONE, DESCPROVINCIA, DESCCOMUNE, ELETTORI, ELETTORI_M, VOTANTI, VOTANTI_M, NUMVOTISI, NUMVOTINO, NUMVOTIBIANCHI, NUMVOTINONVALIDI, NUMVOTICONTESTATI]\n",
       "Index: []"
      ]
     },
     "execution_count": 276,
     "metadata": {},
     "output_type": "execute_result"
    }
   ],
   "source": [
    "df_clean.loc[pd.to_numeric(df_clean['NUMVOTICONTESTATI']) < 0]"
   ]
  },
  {
   "cell_type": "code",
   "execution_count": 277,
   "metadata": {
    "collapsed": false
   },
   "outputs": [
    {
     "data": {
      "text/plain": [
       "DESCREGIONE                                                     UMBRIA\n",
       "DESCPROVINCIA                           TERNI                         \n",
       "DESCCOMUNE           POLINO                                        ...\n",
       "ELETTORI                                                           206\n",
       "ELETTORI_M                                                         110\n",
       "VOTANTI                                                            156\n",
       "VOTANTI_M                                                           83\n",
       "NUMVOTISI                                                           89\n",
       "NUMVOTINO                                                      1000000\n",
       "NUMVOTIBIANCHI                                                       0\n",
       "NUMVOTINONVALIDI                                                     4\n",
       "NUMVOTICONTESTATI                                                    0\n",
       "Name: 7342, dtype: object"
      ]
     },
     "execution_count": 277,
     "metadata": {},
     "output_type": "execute_result"
    }
   ],
   "source": [
    "df_clean.loc[7342]"
   ]
  },
  {
   "cell_type": "code",
   "execution_count": 278,
   "metadata": {
    "collapsed": false
   },
   "outputs": [],
   "source": [
    "df_clean.iloc[7342, df.columns.get_loc('NUMVOTINO')]=63"
   ]
  },
  {
   "cell_type": "code",
   "execution_count": 279,
   "metadata": {
    "collapsed": false
   },
   "outputs": [
    {
     "data": {
      "text/plain": [
       "DESCREGIONE                                                     UMBRIA\n",
       "DESCPROVINCIA                           TERNI                         \n",
       "DESCCOMUNE           POLINO                                        ...\n",
       "ELETTORI                                                           206\n",
       "ELETTORI_M                                                         110\n",
       "VOTANTI                                                            156\n",
       "VOTANTI_M                                                           83\n",
       "NUMVOTISI                                                           89\n",
       "NUMVOTINO                                                           63\n",
       "NUMVOTIBIANCHI                                                       0\n",
       "NUMVOTINONVALIDI                                                     4\n",
       "NUMVOTICONTESTATI                                                    0\n",
       "Name: 7342, dtype: object"
      ]
     },
     "execution_count": 279,
     "metadata": {},
     "output_type": "execute_result"
    }
   ],
   "source": [
    "df_clean.loc[7342]"
   ]
  },
  {
   "cell_type": "code",
   "execution_count": 280,
   "metadata": {
    "collapsed": false
   },
   "outputs": [
    {
     "data": {
      "text/plain": [
       "DESCREGIONE                                                     VENETO\n",
       "DESCPROVINCIA                           VICENZA                       \n",
       "DESCCOMUNE           SOSSANO                                       ...\n",
       "ELETTORI                                                          3360\n",
       "ELETTORI_M                                                        1694\n",
       "VOTANTI                                                          -2629\n",
       "VOTANTI_M                                                         1350\n",
       "NUMVOTISI                                                          842\n",
       "NUMVOTINO                                                         1761\n",
       "NUMVOTIBIANCHI                                                       6\n",
       "NUMVOTINONVALIDI                                                    20\n",
       "NUMVOTICONTESTATI                                                    0\n",
       "Name: 7978, dtype: object"
      ]
     },
     "execution_count": 280,
     "metadata": {},
     "output_type": "execute_result"
    }
   ],
   "source": [
    "df_clean.loc[7978]"
   ]
  },
  {
   "cell_type": "code",
   "execution_count": 281,
   "metadata": {
    "collapsed": false
   },
   "outputs": [],
   "source": [
    "df_clean.iloc[7975, df.columns.get_loc('VOTANTI')]=\"2629\""
   ]
  },
  {
   "cell_type": "code",
   "execution_count": 282,
   "metadata": {
    "collapsed": false
   },
   "outputs": [
    {
     "data": {
      "text/plain": [
       "DESCREGIONE                                                     VENETO\n",
       "DESCPROVINCIA                           VICENZA                       \n",
       "DESCCOMUNE           SOSSANO                                       ...\n",
       "ELETTORI                                                          3360\n",
       "ELETTORI_M                                                        1694\n",
       "VOTANTI                                                           2629\n",
       "VOTANTI_M                                                         1350\n",
       "NUMVOTISI                                                          842\n",
       "NUMVOTINO                                                         1761\n",
       "NUMVOTIBIANCHI                                                       6\n",
       "NUMVOTINONVALIDI                                                    20\n",
       "NUMVOTICONTESTATI                                                    0\n",
       "Name: 7978, dtype: object"
      ]
     },
     "execution_count": 282,
     "metadata": {},
     "output_type": "execute_result"
    }
   ],
   "source": [
    "df_clean.loc[7978]"
   ]
  },
  {
   "cell_type": "code",
   "execution_count": 283,
   "metadata": {
    "collapsed": false
   },
   "outputs": [
    {
     "data": {
      "text/html": [
       "<div>\n",
       "<table border=\"1\" class=\"dataframe\">\n",
       "  <thead>\n",
       "    <tr style=\"text-align: right;\">\n",
       "      <th></th>\n",
       "      <th>DESCREGIONE</th>\n",
       "      <th>DESCPROVINCIA</th>\n",
       "      <th>DESCCOMUNE</th>\n",
       "      <th>ELETTORI</th>\n",
       "      <th>ELETTORI_M</th>\n",
       "      <th>VOTANTI</th>\n",
       "      <th>VOTANTI_M</th>\n",
       "      <th>NUMVOTISI</th>\n",
       "      <th>NUMVOTINO</th>\n",
       "      <th>NUMVOTIBIANCHI</th>\n",
       "      <th>NUMVOTINONVALIDI</th>\n",
       "      <th>NUMVOTICONTESTATI</th>\n",
       "    </tr>\n",
       "  </thead>\n",
       "  <tbody>\n",
       "  </tbody>\n",
       "</table>\n",
       "</div>"
      ],
      "text/plain": [
       "Empty DataFrame\n",
       "Columns: [DESCREGIONE, DESCPROVINCIA, DESCCOMUNE, ELETTORI, ELETTORI_M, VOTANTI, VOTANTI_M, NUMVOTISI, NUMVOTINO, NUMVOTIBIANCHI, NUMVOTINONVALIDI, NUMVOTICONTESTATI]\n",
       "Index: []"
      ]
     },
     "execution_count": 283,
     "metadata": {},
     "output_type": "execute_result"
    }
   ],
   "source": [
    "df_clean.loc[pd.to_numeric(df_clean['NUMVOTINO']) > pd.to_numeric(df_clean['VOTANTI'])]"
   ]
  },
  {
   "cell_type": "code",
   "execution_count": 284,
   "metadata": {
    "collapsed": false
   },
   "outputs": [
    {
     "data": {
      "text/html": [
       "<div>\n",
       "<table border=\"1\" class=\"dataframe\">\n",
       "  <thead>\n",
       "    <tr style=\"text-align: right;\">\n",
       "      <th></th>\n",
       "      <th>DESCREGIONE</th>\n",
       "      <th>DESCPROVINCIA</th>\n",
       "      <th>DESCCOMUNE</th>\n",
       "      <th>ELETTORI</th>\n",
       "      <th>ELETTORI_M</th>\n",
       "      <th>VOTANTI</th>\n",
       "      <th>VOTANTI_M</th>\n",
       "      <th>NUMVOTISI</th>\n",
       "      <th>NUMVOTINO</th>\n",
       "      <th>NUMVOTIBIANCHI</th>\n",
       "      <th>NUMVOTINONVALIDI</th>\n",
       "      <th>NUMVOTICONTESTATI</th>\n",
       "    </tr>\n",
       "  </thead>\n",
       "  <tbody>\n",
       "  </tbody>\n",
       "</table>\n",
       "</div>"
      ],
      "text/plain": [
       "Empty DataFrame\n",
       "Columns: [DESCREGIONE, DESCPROVINCIA, DESCCOMUNE, ELETTORI, ELETTORI_M, VOTANTI, VOTANTI_M, NUMVOTISI, NUMVOTINO, NUMVOTIBIANCHI, NUMVOTINONVALIDI, NUMVOTICONTESTATI]\n",
       "Index: []"
      ]
     },
     "execution_count": 284,
     "metadata": {},
     "output_type": "execute_result"
    }
   ],
   "source": [
    "df_clean.loc[pd.to_numeric(df_clean['VOTANTI']) > pd.to_numeric(df_clean['ELETTORI'])]"
   ]
  },
  {
   "cell_type": "code",
   "execution_count": 285,
   "metadata": {
    "collapsed": false
   },
   "outputs": [
    {
     "data": {
      "text/plain": [
       "False"
      ]
     },
     "execution_count": 285,
     "metadata": {},
     "output_type": "execute_result"
    }
   ],
   "source": [
    "a=pd.to_numeric(df_clean['VOTANTI'])\n",
    "b=pd.to_numeric(df_clean['NUMVOTINO'])\n",
    "c=pd.to_numeric(df_clean['NUMVOTISI'])\n",
    "d=pd.to_numeric(df_clean['NUMVOTIBIANCHI'])\n",
    "e=pd.to_numeric(df_clean['NUMVOTINONVALIDI'])\n",
    "f=pd.to_numeric(df_clean['NUMVOTICONTESTATI'])\n",
    "\n",
    "diff_vot = a - (b+c+d+e+f)\n",
    "(diff_vot > 0).any()"
   ]
  },
  {
   "cell_type": "code",
   "execution_count": 286,
   "metadata": {
    "collapsed": false
   },
   "outputs": [
    {
     "data": {
      "text/plain": [
       "(7995, 12)"
      ]
     },
     "execution_count": 286,
     "metadata": {},
     "output_type": "execute_result"
    }
   ],
   "source": [
    "df_clean.shape"
   ]
  },
  {
   "cell_type": "markdown",
   "metadata": {},
   "source": [
    "# Final and cleaned dataframe"
   ]
  },
  {
   "cell_type": "code",
   "execution_count": 287,
   "metadata": {
    "collapsed": false
   },
   "outputs": [
    {
     "name": "stdout",
     "output_type": "stream",
     "text": [
      "The new dataset is composed by 7995 rows\n",
      "The new dataset is composed by 12 columns\n"
     ]
    }
   ],
   "source": [
    "# Shape of the final dataset\n",
    "df_clean.shape\n",
    "print('The new dataset is composed by {} rows'.format(df_clean.shape[0]))\n",
    "print('The new dataset is composed by {} columns'.format(df_clean.shape[1]))"
   ]
  },
  {
   "cell_type": "markdown",
   "metadata": {},
   "source": [
    "# Write dataframe to csv"
   ]
  },
  {
   "cell_type": "code",
   "execution_count": 288,
   "metadata": {
    "collapsed": false
   },
   "outputs": [],
   "source": [
    "df_clean.to_csv('../resources/ScrutiniFI_cleaned.csv',sep=';',index=False)"
   ]
  }
 ],
 "metadata": {
  "anaconda-cloud": {},
  "kernelspec": {
   "display_name": "Python [default]",
   "language": "python",
   "name": "python3"
  },
  "language_info": {
   "codemirror_mode": {
    "name": "ipython",
    "version": 3
   },
   "file_extension": ".py",
   "mimetype": "text/x-python",
   "name": "python",
   "nbconvert_exporter": "python",
   "pygments_lexer": "ipython3",
   "version": "3.5.2"
  }
 },
 "nbformat": 4,
 "nbformat_minor": 1
}
