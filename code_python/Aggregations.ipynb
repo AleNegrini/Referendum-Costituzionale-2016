{
 "cells": [
  {
   "cell_type": "code",
   "execution_count": 1,
   "metadata": {
    "collapsed": true
   },
   "outputs": [],
   "source": [
    "import pandas as pd\n",
    "import numpy as np"
   ]
  },
  {
   "cell_type": "markdown",
   "metadata": {},
   "source": [
    "# Load cleaned csv dataset in a dataframe "
   ]
  },
  {
   "cell_type": "code",
   "execution_count": 2,
   "metadata": {
    "collapsed": false
   },
   "outputs": [],
   "source": [
    "df = pd.read_csv('../resources/ScrutiniFI_cleaned.csv',sep=';')"
   ]
  },
  {
   "cell_type": "code",
   "execution_count": 3,
   "metadata": {
    "collapsed": false
   },
   "outputs": [
    {
     "data": {
      "text/plain": [
       "(7992, 12)"
      ]
     },
     "execution_count": 3,
     "metadata": {},
     "output_type": "execute_result"
    }
   ],
   "source": [
    "df.shape"
   ]
  },
  {
   "cell_type": "code",
   "execution_count": 4,
   "metadata": {
    "collapsed": false
   },
   "outputs": [
    {
     "data": {
      "text/html": [
       "<div>\n",
       "<table border=\"1\" class=\"dataframe\">\n",
       "  <thead>\n",
       "    <tr style=\"text-align: right;\">\n",
       "      <th></th>\n",
       "      <th>DESCREGIONE</th>\n",
       "      <th>DESCPROVINCIA</th>\n",
       "      <th>DESCCOMUNE</th>\n",
       "      <th>ELETTORI</th>\n",
       "      <th>ELETTORI_M</th>\n",
       "      <th>VOTANTI</th>\n",
       "      <th>VOTANTI_M</th>\n",
       "      <th>NUMVOTISI</th>\n",
       "      <th>NUMVOTINO</th>\n",
       "      <th>NUMVOTIBIANCHI</th>\n",
       "      <th>NUMVOTINONVALIDI</th>\n",
       "      <th>NUMVOTICONTESTATI</th>\n",
       "    </tr>\n",
       "  </thead>\n",
       "  <tbody>\n",
       "    <tr>\n",
       "      <th>0</th>\n",
       "      <td>ABRUZZO</td>\n",
       "      <td>CHIETI</td>\n",
       "      <td>ALTINO                                        ...</td>\n",
       "      <td>2288</td>\n",
       "      <td>1101</td>\n",
       "      <td>1496</td>\n",
       "      <td>775</td>\n",
       "      <td>533</td>\n",
       "      <td>953</td>\n",
       "      <td>2</td>\n",
       "      <td>8</td>\n",
       "      <td>0</td>\n",
       "    </tr>\n",
       "    <tr>\n",
       "      <th>1</th>\n",
       "      <td>ABRUZZO</td>\n",
       "      <td>CHIETI</td>\n",
       "      <td>ARCHI                                         ...</td>\n",
       "      <td>1785</td>\n",
       "      <td>861</td>\n",
       "      <td>1241</td>\n",
       "      <td>632</td>\n",
       "      <td>442</td>\n",
       "      <td>782</td>\n",
       "      <td>3</td>\n",
       "      <td>14</td>\n",
       "      <td>0</td>\n",
       "    </tr>\n",
       "    <tr>\n",
       "      <th>2</th>\n",
       "      <td>ABRUZZO</td>\n",
       "      <td>CHIETI</td>\n",
       "      <td>ARI                                           ...</td>\n",
       "      <td>831</td>\n",
       "      <td>402</td>\n",
       "      <td>617</td>\n",
       "      <td>328</td>\n",
       "      <td>241</td>\n",
       "      <td>366</td>\n",
       "      <td>6</td>\n",
       "      <td>4</td>\n",
       "      <td>0</td>\n",
       "    </tr>\n",
       "    <tr>\n",
       "      <th>3</th>\n",
       "      <td>ABRUZZO</td>\n",
       "      <td>CHIETI</td>\n",
       "      <td>ARIELLI                                       ...</td>\n",
       "      <td>939</td>\n",
       "      <td>453</td>\n",
       "      <td>612</td>\n",
       "      <td>304</td>\n",
       "      <td>194</td>\n",
       "      <td>410</td>\n",
       "      <td>1</td>\n",
       "      <td>7</td>\n",
       "      <td>0</td>\n",
       "    </tr>\n",
       "    <tr>\n",
       "      <th>4</th>\n",
       "      <td>ABRUZZO</td>\n",
       "      <td>CHIETI</td>\n",
       "      <td>ATESSA                                        ...</td>\n",
       "      <td>8454</td>\n",
       "      <td>4121</td>\n",
       "      <td>5860</td>\n",
       "      <td>3006</td>\n",
       "      <td>1952</td>\n",
       "      <td>3836</td>\n",
       "      <td>45</td>\n",
       "      <td>27</td>\n",
       "      <td>0</td>\n",
       "    </tr>\n",
       "  </tbody>\n",
       "</table>\n",
       "</div>"
      ],
      "text/plain": [
       "  DESCREGIONE                   DESCPROVINCIA  \\\n",
       "0     ABRUZZO  CHIETI                           \n",
       "1     ABRUZZO  CHIETI                           \n",
       "2     ABRUZZO  CHIETI                           \n",
       "3     ABRUZZO  CHIETI                           \n",
       "4     ABRUZZO  CHIETI                           \n",
       "\n",
       "                                          DESCCOMUNE  ELETTORI  ELETTORI_M  \\\n",
       "0  ALTINO                                        ...      2288        1101   \n",
       "1  ARCHI                                         ...      1785         861   \n",
       "2  ARI                                           ...       831         402   \n",
       "3  ARIELLI                                       ...       939         453   \n",
       "4  ATESSA                                        ...      8454        4121   \n",
       "\n",
       "   VOTANTI  VOTANTI_M  NUMVOTISI  NUMVOTINO  NUMVOTIBIANCHI  NUMVOTINONVALIDI  \\\n",
       "0     1496        775        533        953               2                 8   \n",
       "1     1241        632        442        782               3                14   \n",
       "2      617        328        241        366               6                 4   \n",
       "3      612        304        194        410               1                 7   \n",
       "4     5860       3006       1952       3836              45                27   \n",
       "\n",
       "   NUMVOTICONTESTATI  \n",
       "0                  0  \n",
       "1                  0  \n",
       "2                  0  \n",
       "3                  0  \n",
       "4                  0  "
      ]
     },
     "execution_count": 4,
     "metadata": {},
     "output_type": "execute_result"
    }
   ],
   "source": [
    "df.head(5)"
   ]
  },
  {
   "cell_type": "markdown",
   "metadata": {},
   "source": [
    "# Dataframe's columns trasformations"
   ]
  },
  {
   "cell_type": "code",
   "execution_count": 5,
   "metadata": {
    "collapsed": false
   },
   "outputs": [
    {
     "data": {
      "text/plain": [
       "pandas.core.series.Series"
      ]
     },
     "execution_count": 5,
     "metadata": {},
     "output_type": "execute_result"
    }
   ],
   "source": [
    "# Create column ELETTORI_F\n",
    "pd.to_numeric(df['ELETTORI'])\n",
    "pd.to_numeric(df['ELETTORI_M'])\n",
    "elettori_f= df['ELETTORI'] - df['ELETTORI_M']\n",
    "elettori_f\n",
    "type(elettori_f)"
   ]
  },
  {
   "cell_type": "code",
   "execution_count": 6,
   "metadata": {
    "collapsed": true
   },
   "outputs": [],
   "source": [
    "# Add ELETTORI_F column to df\n",
    "df['ELETTORI_F']=elettori_f"
   ]
  },
  {
   "cell_type": "code",
   "execution_count": 7,
   "metadata": {
    "collapsed": false
   },
   "outputs": [
    {
     "data": {
      "text/plain": [
       "pandas.core.series.Series"
      ]
     },
     "execution_count": 7,
     "metadata": {},
     "output_type": "execute_result"
    }
   ],
   "source": [
    "# Create column PERC_VOTANTI\n",
    "pd.to_numeric(df['ELETTORI'])\n",
    "pd.to_numeric(df['VOTANTI'])\n",
    "perc_votanti= (df['VOTANTI'] / df['ELETTORI'])*100\n",
    "perc_votanti\n",
    "type(perc_votanti)"
   ]
  },
  {
   "cell_type": "code",
   "execution_count": 8,
   "metadata": {
    "collapsed": true
   },
   "outputs": [],
   "source": [
    "# Add PERCENTUALE_VOTANTI column to df\n",
    "df['PERCENTUALE_VOTANTI']=perc_votanti"
   ]
  },
  {
   "cell_type": "code",
   "execution_count": 9,
   "metadata": {
    "collapsed": false
   },
   "outputs": [
    {
     "data": {
      "text/plain": [
       "pandas.core.series.Series"
      ]
     },
     "execution_count": 9,
     "metadata": {},
     "output_type": "execute_result"
    }
   ],
   "source": [
    "# Create column PERC_SI\n",
    "pd.to_numeric(df['NUMVOTISI'])\n",
    "pd.to_numeric(df['VOTANTI'])\n",
    "perc_votanti_si= (df['NUMVOTISI'] / df['VOTANTI'])*100\n",
    "perc_votanti_si\n",
    "type(perc_votanti_si)"
   ]
  },
  {
   "cell_type": "code",
   "execution_count": 10,
   "metadata": {
    "collapsed": false
   },
   "outputs": [
    {
     "data": {
      "text/plain": [
       "pandas.core.series.Series"
      ]
     },
     "execution_count": 10,
     "metadata": {},
     "output_type": "execute_result"
    }
   ],
   "source": [
    "# Create column PERC_NO\n",
    "pd.to_numeric(df['NUMVOTINO'])\n",
    "pd.to_numeric(df['VOTANTI'])\n",
    "perc_votanti_no= (df['NUMVOTINO'] / df['VOTANTI'])*100\n",
    "perc_votanti_no\n",
    "type(perc_votanti_no)"
   ]
  },
  {
   "cell_type": "code",
   "execution_count": 11,
   "metadata": {
    "collapsed": false
   },
   "outputs": [],
   "source": [
    "# Add PERCENTUALE_SI e NO column to df\n",
    "df['PERCENTUALE_NO']=perc_votanti_no\n",
    "df['PERCENTUALE_SI']=perc_votanti_si"
   ]
  },
  {
   "cell_type": "code",
   "execution_count": 12,
   "metadata": {
    "collapsed": false
   },
   "outputs": [
    {
     "data": {
      "text/plain": [
       "pandas.core.series.Series"
      ]
     },
     "execution_count": 12,
     "metadata": {},
     "output_type": "execute_result"
    }
   ],
   "source": [
    "# Create column PERC_ALTRI\n",
    "pd.to_numeric(df['NUMVOTIBIANCHI'])\n",
    "pd.to_numeric(df['NUMVOTINONVALIDI'])\n",
    "pd.to_numeric(df['NUMVOTICONTESTATI'])\n",
    "pd.to_numeric(df['VOTANTI'])\n",
    "numerator = (df['NUMVOTIBIANCHI']+df['NUMVOTINONVALIDI']+df['NUMVOTICONTESTATI'])\n",
    "perc_votanti_altri= numerator\n",
    "perc_votanti_altri\n",
    "type(perc_votanti_altri)"
   ]
  },
  {
   "cell_type": "code",
   "execution_count": 13,
   "metadata": {
    "collapsed": true
   },
   "outputs": [],
   "source": [
    "df['PERCENTUALE_ALTRI']=perc_votanti_altri"
   ]
  },
  {
   "cell_type": "code",
   "execution_count": 14,
   "metadata": {
    "collapsed": false
   },
   "outputs": [
    {
     "data": {
      "text/html": [
       "<div>\n",
       "<table border=\"1\" class=\"dataframe\">\n",
       "  <thead>\n",
       "    <tr style=\"text-align: right;\">\n",
       "      <th></th>\n",
       "      <th>DESCREGIONE</th>\n",
       "      <th>DESCPROVINCIA</th>\n",
       "      <th>DESCCOMUNE</th>\n",
       "      <th>ELETTORI</th>\n",
       "      <th>ELETTORI_M</th>\n",
       "      <th>VOTANTI</th>\n",
       "      <th>VOTANTI_M</th>\n",
       "      <th>NUMVOTISI</th>\n",
       "      <th>NUMVOTINO</th>\n",
       "      <th>NUMVOTIBIANCHI</th>\n",
       "      <th>NUMVOTINONVALIDI</th>\n",
       "      <th>NUMVOTICONTESTATI</th>\n",
       "      <th>ELETTORI_F</th>\n",
       "      <th>PERCENTUALE_VOTANTI</th>\n",
       "      <th>PERCENTUALE_NO</th>\n",
       "      <th>PERCENTUALE_SI</th>\n",
       "      <th>PERCENTUALE_ALTRI</th>\n",
       "    </tr>\n",
       "  </thead>\n",
       "  <tbody>\n",
       "    <tr>\n",
       "      <th>0</th>\n",
       "      <td>ABRUZZO</td>\n",
       "      <td>CHIETI</td>\n",
       "      <td>ALTINO                                        ...</td>\n",
       "      <td>2288</td>\n",
       "      <td>1101</td>\n",
       "      <td>1496</td>\n",
       "      <td>775</td>\n",
       "      <td>533</td>\n",
       "      <td>953</td>\n",
       "      <td>2</td>\n",
       "      <td>8</td>\n",
       "      <td>0</td>\n",
       "      <td>1187</td>\n",
       "      <td>65.384615</td>\n",
       "      <td>63.703209</td>\n",
       "      <td>35.628342</td>\n",
       "      <td>10</td>\n",
       "    </tr>\n",
       "    <tr>\n",
       "      <th>1</th>\n",
       "      <td>ABRUZZO</td>\n",
       "      <td>CHIETI</td>\n",
       "      <td>ARCHI                                         ...</td>\n",
       "      <td>1785</td>\n",
       "      <td>861</td>\n",
       "      <td>1241</td>\n",
       "      <td>632</td>\n",
       "      <td>442</td>\n",
       "      <td>782</td>\n",
       "      <td>3</td>\n",
       "      <td>14</td>\n",
       "      <td>0</td>\n",
       "      <td>924</td>\n",
       "      <td>69.523810</td>\n",
       "      <td>63.013699</td>\n",
       "      <td>35.616438</td>\n",
       "      <td>17</td>\n",
       "    </tr>\n",
       "    <tr>\n",
       "      <th>2</th>\n",
       "      <td>ABRUZZO</td>\n",
       "      <td>CHIETI</td>\n",
       "      <td>ARI                                           ...</td>\n",
       "      <td>831</td>\n",
       "      <td>402</td>\n",
       "      <td>617</td>\n",
       "      <td>328</td>\n",
       "      <td>241</td>\n",
       "      <td>366</td>\n",
       "      <td>6</td>\n",
       "      <td>4</td>\n",
       "      <td>0</td>\n",
       "      <td>429</td>\n",
       "      <td>74.247894</td>\n",
       "      <td>59.319287</td>\n",
       "      <td>39.059968</td>\n",
       "      <td>10</td>\n",
       "    </tr>\n",
       "    <tr>\n",
       "      <th>3</th>\n",
       "      <td>ABRUZZO</td>\n",
       "      <td>CHIETI</td>\n",
       "      <td>ARIELLI                                       ...</td>\n",
       "      <td>939</td>\n",
       "      <td>453</td>\n",
       "      <td>612</td>\n",
       "      <td>304</td>\n",
       "      <td>194</td>\n",
       "      <td>410</td>\n",
       "      <td>1</td>\n",
       "      <td>7</td>\n",
       "      <td>0</td>\n",
       "      <td>486</td>\n",
       "      <td>65.175719</td>\n",
       "      <td>66.993464</td>\n",
       "      <td>31.699346</td>\n",
       "      <td>8</td>\n",
       "    </tr>\n",
       "    <tr>\n",
       "      <th>4</th>\n",
       "      <td>ABRUZZO</td>\n",
       "      <td>CHIETI</td>\n",
       "      <td>ATESSA                                        ...</td>\n",
       "      <td>8454</td>\n",
       "      <td>4121</td>\n",
       "      <td>5860</td>\n",
       "      <td>3006</td>\n",
       "      <td>1952</td>\n",
       "      <td>3836</td>\n",
       "      <td>45</td>\n",
       "      <td>27</td>\n",
       "      <td>0</td>\n",
       "      <td>4333</td>\n",
       "      <td>69.316300</td>\n",
       "      <td>65.460751</td>\n",
       "      <td>33.310580</td>\n",
       "      <td>72</td>\n",
       "    </tr>\n",
       "  </tbody>\n",
       "</table>\n",
       "</div>"
      ],
      "text/plain": [
       "  DESCREGIONE                   DESCPROVINCIA  \\\n",
       "0     ABRUZZO  CHIETI                           \n",
       "1     ABRUZZO  CHIETI                           \n",
       "2     ABRUZZO  CHIETI                           \n",
       "3     ABRUZZO  CHIETI                           \n",
       "4     ABRUZZO  CHIETI                           \n",
       "\n",
       "                                          DESCCOMUNE  ELETTORI  ELETTORI_M  \\\n",
       "0  ALTINO                                        ...      2288        1101   \n",
       "1  ARCHI                                         ...      1785         861   \n",
       "2  ARI                                           ...       831         402   \n",
       "3  ARIELLI                                       ...       939         453   \n",
       "4  ATESSA                                        ...      8454        4121   \n",
       "\n",
       "   VOTANTI  VOTANTI_M  NUMVOTISI  NUMVOTINO  NUMVOTIBIANCHI  NUMVOTINONVALIDI  \\\n",
       "0     1496        775        533        953               2                 8   \n",
       "1     1241        632        442        782               3                14   \n",
       "2      617        328        241        366               6                 4   \n",
       "3      612        304        194        410               1                 7   \n",
       "4     5860       3006       1952       3836              45                27   \n",
       "\n",
       "   NUMVOTICONTESTATI  ELETTORI_F  PERCENTUALE_VOTANTI  PERCENTUALE_NO  \\\n",
       "0                  0        1187            65.384615       63.703209   \n",
       "1                  0         924            69.523810       63.013699   \n",
       "2                  0         429            74.247894       59.319287   \n",
       "3                  0         486            65.175719       66.993464   \n",
       "4                  0        4333            69.316300       65.460751   \n",
       "\n",
       "   PERCENTUALE_SI  PERCENTUALE_ALTRI  \n",
       "0       35.628342                 10  \n",
       "1       35.616438                 17  \n",
       "2       39.059968                 10  \n",
       "3       31.699346                  8  \n",
       "4       33.310580                 72  "
      ]
     },
     "execution_count": 14,
     "metadata": {},
     "output_type": "execute_result"
    }
   ],
   "source": [
    "df.head(5)"
   ]
  },
  {
   "cell_type": "code",
   "execution_count": 15,
   "metadata": {
    "collapsed": true
   },
   "outputs": [],
   "source": [
    "df_relevant_columns = df"
   ]
  },
  {
   "cell_type": "code",
   "execution_count": 16,
   "metadata": {
    "collapsed": false
   },
   "outputs": [
    {
     "data": {
      "text/html": [
       "<div>\n",
       "<table border=\"1\" class=\"dataframe\">\n",
       "  <thead>\n",
       "    <tr style=\"text-align: right;\">\n",
       "      <th></th>\n",
       "      <th>DESCREGIONE</th>\n",
       "      <th>DESCPROVINCIA</th>\n",
       "      <th>DESCCOMUNE</th>\n",
       "      <th>ELETTORI</th>\n",
       "      <th>ELETTORI_M</th>\n",
       "      <th>VOTANTI</th>\n",
       "      <th>VOTANTI_M</th>\n",
       "      <th>NUMVOTISI</th>\n",
       "      <th>NUMVOTINO</th>\n",
       "      <th>NUMVOTIBIANCHI</th>\n",
       "      <th>NUMVOTINONVALIDI</th>\n",
       "      <th>NUMVOTICONTESTATI</th>\n",
       "      <th>ELETTORI_F</th>\n",
       "      <th>PERCENTUALE_VOTANTI</th>\n",
       "      <th>PERCENTUALE_NO</th>\n",
       "      <th>PERCENTUALE_SI</th>\n",
       "      <th>PERCENTUALE_ALTRI</th>\n",
       "    </tr>\n",
       "  </thead>\n",
       "  <tbody>\n",
       "    <tr>\n",
       "      <th>0</th>\n",
       "      <td>ABRUZZO</td>\n",
       "      <td>CHIETI</td>\n",
       "      <td>ALTINO                                        ...</td>\n",
       "      <td>2288</td>\n",
       "      <td>1101</td>\n",
       "      <td>1496</td>\n",
       "      <td>775</td>\n",
       "      <td>533</td>\n",
       "      <td>953</td>\n",
       "      <td>2</td>\n",
       "      <td>8</td>\n",
       "      <td>0</td>\n",
       "      <td>1187</td>\n",
       "      <td>65.384615</td>\n",
       "      <td>63.703209</td>\n",
       "      <td>35.628342</td>\n",
       "      <td>10</td>\n",
       "    </tr>\n",
       "    <tr>\n",
       "      <th>1</th>\n",
       "      <td>ABRUZZO</td>\n",
       "      <td>CHIETI</td>\n",
       "      <td>ARCHI                                         ...</td>\n",
       "      <td>1785</td>\n",
       "      <td>861</td>\n",
       "      <td>1241</td>\n",
       "      <td>632</td>\n",
       "      <td>442</td>\n",
       "      <td>782</td>\n",
       "      <td>3</td>\n",
       "      <td>14</td>\n",
       "      <td>0</td>\n",
       "      <td>924</td>\n",
       "      <td>69.523810</td>\n",
       "      <td>63.013699</td>\n",
       "      <td>35.616438</td>\n",
       "      <td>17</td>\n",
       "    </tr>\n",
       "    <tr>\n",
       "      <th>2</th>\n",
       "      <td>ABRUZZO</td>\n",
       "      <td>CHIETI</td>\n",
       "      <td>ARI                                           ...</td>\n",
       "      <td>831</td>\n",
       "      <td>402</td>\n",
       "      <td>617</td>\n",
       "      <td>328</td>\n",
       "      <td>241</td>\n",
       "      <td>366</td>\n",
       "      <td>6</td>\n",
       "      <td>4</td>\n",
       "      <td>0</td>\n",
       "      <td>429</td>\n",
       "      <td>74.247894</td>\n",
       "      <td>59.319287</td>\n",
       "      <td>39.059968</td>\n",
       "      <td>10</td>\n",
       "    </tr>\n",
       "    <tr>\n",
       "      <th>3</th>\n",
       "      <td>ABRUZZO</td>\n",
       "      <td>CHIETI</td>\n",
       "      <td>ARIELLI                                       ...</td>\n",
       "      <td>939</td>\n",
       "      <td>453</td>\n",
       "      <td>612</td>\n",
       "      <td>304</td>\n",
       "      <td>194</td>\n",
       "      <td>410</td>\n",
       "      <td>1</td>\n",
       "      <td>7</td>\n",
       "      <td>0</td>\n",
       "      <td>486</td>\n",
       "      <td>65.175719</td>\n",
       "      <td>66.993464</td>\n",
       "      <td>31.699346</td>\n",
       "      <td>8</td>\n",
       "    </tr>\n",
       "    <tr>\n",
       "      <th>4</th>\n",
       "      <td>ABRUZZO</td>\n",
       "      <td>CHIETI</td>\n",
       "      <td>ATESSA                                        ...</td>\n",
       "      <td>8454</td>\n",
       "      <td>4121</td>\n",
       "      <td>5860</td>\n",
       "      <td>3006</td>\n",
       "      <td>1952</td>\n",
       "      <td>3836</td>\n",
       "      <td>45</td>\n",
       "      <td>27</td>\n",
       "      <td>0</td>\n",
       "      <td>4333</td>\n",
       "      <td>69.316300</td>\n",
       "      <td>65.460751</td>\n",
       "      <td>33.310580</td>\n",
       "      <td>72</td>\n",
       "    </tr>\n",
       "  </tbody>\n",
       "</table>\n",
       "</div>"
      ],
      "text/plain": [
       "  DESCREGIONE                   DESCPROVINCIA  \\\n",
       "0     ABRUZZO  CHIETI                           \n",
       "1     ABRUZZO  CHIETI                           \n",
       "2     ABRUZZO  CHIETI                           \n",
       "3     ABRUZZO  CHIETI                           \n",
       "4     ABRUZZO  CHIETI                           \n",
       "\n",
       "                                          DESCCOMUNE  ELETTORI  ELETTORI_M  \\\n",
       "0  ALTINO                                        ...      2288        1101   \n",
       "1  ARCHI                                         ...      1785         861   \n",
       "2  ARI                                           ...       831         402   \n",
       "3  ARIELLI                                       ...       939         453   \n",
       "4  ATESSA                                        ...      8454        4121   \n",
       "\n",
       "   VOTANTI  VOTANTI_M  NUMVOTISI  NUMVOTINO  NUMVOTIBIANCHI  NUMVOTINONVALIDI  \\\n",
       "0     1496        775        533        953               2                 8   \n",
       "1     1241        632        442        782               3                14   \n",
       "2      617        328        241        366               6                 4   \n",
       "3      612        304        194        410               1                 7   \n",
       "4     5860       3006       1952       3836              45                27   \n",
       "\n",
       "   NUMVOTICONTESTATI  ELETTORI_F  PERCENTUALE_VOTANTI  PERCENTUALE_NO  \\\n",
       "0                  0        1187            65.384615       63.703209   \n",
       "1                  0         924            69.523810       63.013699   \n",
       "2                  0         429            74.247894       59.319287   \n",
       "3                  0         486            65.175719       66.993464   \n",
       "4                  0        4333            69.316300       65.460751   \n",
       "\n",
       "   PERCENTUALE_SI  PERCENTUALE_ALTRI  \n",
       "0       35.628342                 10  \n",
       "1       35.616438                 17  \n",
       "2       39.059968                 10  \n",
       "3       31.699346                  8  \n",
       "4       33.310580                 72  "
      ]
     },
     "execution_count": 16,
     "metadata": {},
     "output_type": "execute_result"
    }
   ],
   "source": [
    "df_relevant_columns.head(5)"
   ]
  },
  {
   "cell_type": "markdown",
   "metadata": {},
   "source": [
    "# Aggregated dataset"
   ]
  },
  {
   "cell_type": "code",
   "execution_count": 17,
   "metadata": {
    "collapsed": false
   },
   "outputs": [],
   "source": [
    "tot_elettori_series=df_relevant_columns.groupby('DESCREGIONE')['ELETTORI'].sum()"
   ]
  },
  {
   "cell_type": "code",
   "execution_count": 18,
   "metadata": {
    "collapsed": false
   },
   "outputs": [],
   "source": [
    "tot_elettori_M_series=df_relevant_columns.groupby('DESCREGIONE')['ELETTORI_M'].sum()"
   ]
  },
  {
   "cell_type": "code",
   "execution_count": 19,
   "metadata": {
    "collapsed": true
   },
   "outputs": [],
   "source": [
    "tot_elettori_F_series=df_relevant_columns.groupby('DESCREGIONE')['ELETTORI_F'].sum()"
   ]
  },
  {
   "cell_type": "code",
   "execution_count": 20,
   "metadata": {
    "collapsed": false
   },
   "outputs": [],
   "source": [
    "sum_votanti=df_relevant_columns.groupby('DESCREGIONE')['VOTANTI'].sum()"
   ]
  },
  {
   "cell_type": "code",
   "execution_count": 21,
   "metadata": {
    "collapsed": false
   },
   "outputs": [],
   "source": [
    "sum_votanti_no=df_relevant_columns.groupby('DESCREGIONE')['NUMVOTINO'].sum()"
   ]
  },
  {
   "cell_type": "code",
   "execution_count": 22,
   "metadata": {
    "collapsed": true
   },
   "outputs": [],
   "source": [
    "sum_votanti_si=df_relevant_columns.groupby('DESCREGIONE')['NUMVOTISI'].sum()"
   ]
  },
  {
   "cell_type": "code",
   "execution_count": 23,
   "metadata": {
    "collapsed": true
   },
   "outputs": [],
   "source": [
    "sum_votanti_altri=df_relevant_columns.groupby('DESCREGIONE')['PERCENTUALE_ALTRI'].sum()"
   ]
  },
  {
   "cell_type": "code",
   "execution_count": 24,
   "metadata": {
    "collapsed": false
   },
   "outputs": [],
   "source": [
    "df_final = pd.DataFrame(tot_elettori_series)"
   ]
  },
  {
   "cell_type": "code",
   "execution_count": 25,
   "metadata": {
    "collapsed": false
   },
   "outputs": [],
   "source": [
    "df_final['TOTALE_ELETTORI_M']=tot_elettori_M_series\n",
    "df_final['TOTALE_ELETTORI_F']=tot_elettori_F_series\n",
    "df_final['VOTANTI']=sum_votanti\n",
    "df_final['NUMVOTINO']=sum_votanti_no\n",
    "df_final['NUMVOTISI']=sum_votanti_si\n",
    "df_final['PERCENTUALE_ALTRI']=sum_votanti_altri"
   ]
  },
  {
   "cell_type": "code",
   "execution_count": 26,
   "metadata": {
    "collapsed": false
   },
   "outputs": [
    {
     "data": {
      "text/html": [
       "<div>\n",
       "<table border=\"1\" class=\"dataframe\">\n",
       "  <thead>\n",
       "    <tr style=\"text-align: right;\">\n",
       "      <th></th>\n",
       "      <th>ELETTORI</th>\n",
       "      <th>TOTALE_ELETTORI_M</th>\n",
       "      <th>TOTALE_ELETTORI_F</th>\n",
       "      <th>VOTANTI</th>\n",
       "      <th>NUMVOTINO</th>\n",
       "      <th>NUMVOTISI</th>\n",
       "      <th>PERCENTUALE_ALTRI</th>\n",
       "    </tr>\n",
       "    <tr>\n",
       "      <th>DESCREGIONE</th>\n",
       "      <th></th>\n",
       "      <th></th>\n",
       "      <th></th>\n",
       "      <th></th>\n",
       "      <th></th>\n",
       "      <th></th>\n",
       "      <th></th>\n",
       "    </tr>\n",
       "  </thead>\n",
       "  <tbody>\n",
       "    <tr>\n",
       "      <th>ABRUZZO</th>\n",
       "      <td>1052049</td>\n",
       "      <td>509116</td>\n",
       "      <td>542933</td>\n",
       "      <td>722930</td>\n",
       "      <td>461188</td>\n",
       "      <td>255001</td>\n",
       "      <td>6741</td>\n",
       "    </tr>\n",
       "    <tr>\n",
       "      <th>BASILICATA</th>\n",
       "      <td>467000</td>\n",
       "      <td>227236</td>\n",
       "      <td>239764</td>\n",
       "      <td>293546</td>\n",
       "      <td>191081</td>\n",
       "      <td>98924</td>\n",
       "      <td>3541</td>\n",
       "    </tr>\n",
       "    <tr>\n",
       "      <th>CALABRIA</th>\n",
       "      <td>1553741</td>\n",
       "      <td>749404</td>\n",
       "      <td>804337</td>\n",
       "      <td>845775</td>\n",
       "      <td>561726</td>\n",
       "      <td>276214</td>\n",
       "      <td>7835</td>\n",
       "    </tr>\n",
       "    <tr>\n",
       "      <th>CAMPANIA</th>\n",
       "      <td>4566905</td>\n",
       "      <td>2190203</td>\n",
       "      <td>2376702</td>\n",
       "      <td>2689070</td>\n",
       "      <td>1827768</td>\n",
       "      <td>839692</td>\n",
       "      <td>21610</td>\n",
       "    </tr>\n",
       "    <tr>\n",
       "      <th>EMILIA-ROMAGNA</th>\n",
       "      <td>3326910</td>\n",
       "      <td>1605036</td>\n",
       "      <td>1721874</td>\n",
       "      <td>2526230</td>\n",
       "      <td>1242992</td>\n",
       "      <td>1262484</td>\n",
       "      <td>20754</td>\n",
       "    </tr>\n",
       "    <tr>\n",
       "      <th>FRIULI-VENEZIA GIULIA</th>\n",
       "      <td>952494</td>\n",
       "      <td>457538</td>\n",
       "      <td>494956</td>\n",
       "      <td>690717</td>\n",
       "      <td>417754</td>\n",
       "      <td>267357</td>\n",
       "      <td>5606</td>\n",
       "    </tr>\n",
       "    <tr>\n",
       "      <th>LAZIO</th>\n",
       "      <td>4402145</td>\n",
       "      <td>2097786</td>\n",
       "      <td>2304359</td>\n",
       "      <td>3044673</td>\n",
       "      <td>1914397</td>\n",
       "      <td>1108768</td>\n",
       "      <td>21508</td>\n",
       "    </tr>\n",
       "    <tr>\n",
       "      <th>LIGURIA</th>\n",
       "      <td>1241469</td>\n",
       "      <td>585208</td>\n",
       "      <td>656261</td>\n",
       "      <td>865756</td>\n",
       "      <td>515777</td>\n",
       "      <td>342671</td>\n",
       "      <td>7308</td>\n",
       "    </tr>\n",
       "    <tr>\n",
       "      <th>LOMBARDIA</th>\n",
       "      <td>7480375</td>\n",
       "      <td>3616467</td>\n",
       "      <td>3863908</td>\n",
       "      <td>5552510</td>\n",
       "      <td>3058210</td>\n",
       "      <td>2452936</td>\n",
       "      <td>41364</td>\n",
       "    </tr>\n",
       "    <tr>\n",
       "      <th>MARCHE</th>\n",
       "      <td>1189181</td>\n",
       "      <td>574341</td>\n",
       "      <td>614840</td>\n",
       "      <td>866233</td>\n",
       "      <td>472765</td>\n",
       "      <td>385768</td>\n",
       "      <td>7700</td>\n",
       "    </tr>\n",
       "    <tr>\n",
       "      <th>MOLISE</th>\n",
       "      <td>256600</td>\n",
       "      <td>124778</td>\n",
       "      <td>131822</td>\n",
       "      <td>164038</td>\n",
       "      <td>98728</td>\n",
       "      <td>63695</td>\n",
       "      <td>1615</td>\n",
       "    </tr>\n",
       "    <tr>\n",
       "      <th>PIEMONTE</th>\n",
       "      <td>3396378</td>\n",
       "      <td>1633247</td>\n",
       "      <td>1763131</td>\n",
       "      <td>2446664</td>\n",
       "      <td>1368801</td>\n",
       "      <td>1054749</td>\n",
       "      <td>23114</td>\n",
       "    </tr>\n",
       "    <tr>\n",
       "      <th>PUGLIA</th>\n",
       "      <td>3280712</td>\n",
       "      <td>1571599</td>\n",
       "      <td>1709113</td>\n",
       "      <td>2024651</td>\n",
       "      <td>1348573</td>\n",
       "      <td>659354</td>\n",
       "      <td>16724</td>\n",
       "    </tr>\n",
       "    <tr>\n",
       "      <th>SARDEGNA</th>\n",
       "      <td>1375735</td>\n",
       "      <td>668772</td>\n",
       "      <td>706963</td>\n",
       "      <td>859158</td>\n",
       "      <td>616791</td>\n",
       "      <td>237280</td>\n",
       "      <td>5087</td>\n",
       "    </tr>\n",
       "    <tr>\n",
       "      <th>SICILIA</th>\n",
       "      <td>4031871</td>\n",
       "      <td>1924425</td>\n",
       "      <td>2107446</td>\n",
       "      <td>2284254</td>\n",
       "      <td>1620095</td>\n",
       "      <td>642713</td>\n",
       "      <td>21446</td>\n",
       "    </tr>\n",
       "    <tr>\n",
       "      <th>TOSCANA</th>\n",
       "      <td>2854129</td>\n",
       "      <td>1364774</td>\n",
       "      <td>1489355</td>\n",
       "      <td>2125053</td>\n",
       "      <td>1000008</td>\n",
       "      <td>1105769</td>\n",
       "      <td>19276</td>\n",
       "    </tr>\n",
       "    <tr>\n",
       "      <th>TRENTINO-ALTO ADIGE</th>\n",
       "      <td>792504</td>\n",
       "      <td>387839</td>\n",
       "      <td>404665</td>\n",
       "      <td>572486</td>\n",
       "      <td>261473</td>\n",
       "      <td>305322</td>\n",
       "      <td>5691</td>\n",
       "    </tr>\n",
       "    <tr>\n",
       "      <th>UMBRIA</th>\n",
       "      <td>675404</td>\n",
       "      <td>324409</td>\n",
       "      <td>350995</td>\n",
       "      <td>496250</td>\n",
       "      <td>251845</td>\n",
       "      <td>240257</td>\n",
       "      <td>4148</td>\n",
       "    </tr>\n",
       "    <tr>\n",
       "      <th>VALLE D'AOSTA</th>\n",
       "      <td>99735</td>\n",
       "      <td>48701</td>\n",
       "      <td>51034</td>\n",
       "      <td>71717</td>\n",
       "      <td>40116</td>\n",
       "      <td>30568</td>\n",
       "      <td>1033</td>\n",
       "    </tr>\n",
       "    <tr>\n",
       "      <th>VENETO</th>\n",
       "      <td>3714515</td>\n",
       "      <td>1801910</td>\n",
       "      <td>1912605</td>\n",
       "      <td>2847685</td>\n",
       "      <td>1751201</td>\n",
       "      <td>1075540</td>\n",
       "      <td>20944</td>\n",
       "    </tr>\n",
       "  </tbody>\n",
       "</table>\n",
       "</div>"
      ],
      "text/plain": [
       "                       ELETTORI  TOTALE_ELETTORI_M  TOTALE_ELETTORI_F  \\\n",
       "DESCREGIONE                                                             \n",
       "ABRUZZO                 1052049             509116             542933   \n",
       "BASILICATA               467000             227236             239764   \n",
       "CALABRIA                1553741             749404             804337   \n",
       "CAMPANIA                4566905            2190203            2376702   \n",
       "EMILIA-ROMAGNA          3326910            1605036            1721874   \n",
       "FRIULI-VENEZIA GIULIA    952494             457538             494956   \n",
       "LAZIO                   4402145            2097786            2304359   \n",
       "LIGURIA                 1241469             585208             656261   \n",
       "LOMBARDIA               7480375            3616467            3863908   \n",
       "MARCHE                  1189181             574341             614840   \n",
       "MOLISE                   256600             124778             131822   \n",
       "PIEMONTE                3396378            1633247            1763131   \n",
       "PUGLIA                  3280712            1571599            1709113   \n",
       "SARDEGNA                1375735             668772             706963   \n",
       "SICILIA                 4031871            1924425            2107446   \n",
       "TOSCANA                 2854129            1364774            1489355   \n",
       "TRENTINO-ALTO ADIGE      792504             387839             404665   \n",
       "UMBRIA                   675404             324409             350995   \n",
       "VALLE D'AOSTA             99735              48701              51034   \n",
       "VENETO                  3714515            1801910            1912605   \n",
       "\n",
       "                       VOTANTI  NUMVOTINO  NUMVOTISI  PERCENTUALE_ALTRI  \n",
       "DESCREGIONE                                                              \n",
       "ABRUZZO                 722930     461188     255001               6741  \n",
       "BASILICATA              293546     191081      98924               3541  \n",
       "CALABRIA                845775     561726     276214               7835  \n",
       "CAMPANIA               2689070    1827768     839692              21610  \n",
       "EMILIA-ROMAGNA         2526230    1242992    1262484              20754  \n",
       "FRIULI-VENEZIA GIULIA   690717     417754     267357               5606  \n",
       "LAZIO                  3044673    1914397    1108768              21508  \n",
       "LIGURIA                 865756     515777     342671               7308  \n",
       "LOMBARDIA              5552510    3058210    2452936              41364  \n",
       "MARCHE                  866233     472765     385768               7700  \n",
       "MOLISE                  164038      98728      63695               1615  \n",
       "PIEMONTE               2446664    1368801    1054749              23114  \n",
       "PUGLIA                 2024651    1348573     659354              16724  \n",
       "SARDEGNA                859158     616791     237280               5087  \n",
       "SICILIA                2284254    1620095     642713              21446  \n",
       "TOSCANA                2125053    1000008    1105769              19276  \n",
       "TRENTINO-ALTO ADIGE     572486     261473     305322               5691  \n",
       "UMBRIA                  496250     251845     240257               4148  \n",
       "VALLE D'AOSTA            71717      40116      30568               1033  \n",
       "VENETO                 2847685    1751201    1075540              20944  "
      ]
     },
     "execution_count": 26,
     "metadata": {},
     "output_type": "execute_result"
    }
   ],
   "source": [
    "df_final"
   ]
  },
  {
   "cell_type": "code",
   "execution_count": 27,
   "metadata": {
    "collapsed": false
   },
   "outputs": [
    {
     "data": {
      "text/plain": [
       "DESCREGIONE\n",
       "ABRUZZO                  63.794282\n",
       "BASILICATA               65.094057\n",
       "CALABRIA                 66.415536\n",
       "CAMPANIA                 67.970265\n",
       "EMILIA-ROMAGNA           49.203438\n",
       "FRIULI-VENEZIA GIULIA    60.481210\n",
       "LAZIO                    62.876933\n",
       "LIGURIA                  59.575331\n",
       "LOMBARDIA                55.077974\n",
       "MARCHE                   54.577117\n",
       "MOLISE                   60.186054\n",
       "PIEMONTE                 55.945606\n",
       "PUGLIA                   66.607677\n",
       "SARDEGNA                 71.790171\n",
       "SICILIA                  70.924468\n",
       "TOSCANA                  47.058026\n",
       "TRENTINO-ALTO ADIGE      45.673257\n",
       "UMBRIA                   50.749622\n",
       "VALLE D'AOSTA            55.936528\n",
       "VENETO                   61.495601\n",
       "dtype: float64"
      ]
     },
     "execution_count": 27,
     "metadata": {},
     "output_type": "execute_result"
    }
   ],
   "source": [
    "# Evaluate the percentage \n",
    "# Create column PERC_NO\n",
    "pd.to_numeric(df_final['NUMVOTINO'])\n",
    "pd.to_numeric(df_final['VOTANTI'])\n",
    "perc_votanti_no= (df_final['NUMVOTINO'] / df_final['VOTANTI'])*100\n",
    "perc_votanti_no"
   ]
  },
  {
   "cell_type": "code",
   "execution_count": 28,
   "metadata": {
    "collapsed": false
   },
   "outputs": [
    {
     "data": {
      "text/plain": [
       "DESCREGIONE\n",
       "ABRUZZO                  35.273263\n",
       "BASILICATA               33.699659\n",
       "CALABRIA                 32.658095\n",
       "CAMPANIA                 31.226112\n",
       "EMILIA-ROMAGNA           49.975022\n",
       "FRIULI-VENEZIA GIULIA    38.707170\n",
       "LAZIO                    36.416653\n",
       "LIGURIA                  39.580552\n",
       "LOMBARDIA                44.177066\n",
       "MARCHE                   44.533976\n",
       "MOLISE                   38.829418\n",
       "PIEMONTE                 43.109679\n",
       "PUGLIA                   32.566304\n",
       "SARDEGNA                 27.617737\n",
       "SICILIA                  28.136670\n",
       "TOSCANA                  52.034890\n",
       "TRENTINO-ALTO ADIGE      53.332658\n",
       "UMBRIA                   48.414509\n",
       "VALLE D'AOSTA            42.623088\n",
       "VENETO                   37.768925\n",
       "dtype: float64"
      ]
     },
     "execution_count": 28,
     "metadata": {},
     "output_type": "execute_result"
    }
   ],
   "source": [
    "# Create column PERC_SI\n",
    "pd.to_numeric(df_final['NUMVOTISI'])\n",
    "pd.to_numeric(df_final['VOTANTI'])\n",
    "perc_votanti_si= (df_final['NUMVOTISI'] / df_final['VOTANTI'])*100\n",
    "perc_votanti_si"
   ]
  },
  {
   "cell_type": "code",
   "execution_count": 29,
   "metadata": {
    "collapsed": false
   },
   "outputs": [
    {
     "data": {
      "text/plain": [
       "DESCREGIONE\n",
       "ABRUZZO                  0.932455\n",
       "BASILICATA               1.206285\n",
       "CALABRIA                 0.926369\n",
       "CAMPANIA                 0.803624\n",
       "EMILIA-ROMAGNA           0.821540\n",
       "FRIULI-VENEZIA GIULIA    0.811620\n",
       "LAZIO                    0.706414\n",
       "LIGURIA                  0.844118\n",
       "LOMBARDIA                0.744960\n",
       "MARCHE                   0.888906\n",
       "MOLISE                   0.984528\n",
       "PIEMONTE                 0.944715\n",
       "PUGLIA                   0.826019\n",
       "SARDEGNA                 0.592091\n",
       "SICILIA                  0.938862\n",
       "TOSCANA                  0.907083\n",
       "TRENTINO-ALTO ADIGE      0.994085\n",
       "UMBRIA                   0.835869\n",
       "VALLE D'AOSTA            1.440384\n",
       "VENETO                   0.735475\n",
       "dtype: float64"
      ]
     },
     "execution_count": 29,
     "metadata": {},
     "output_type": "execute_result"
    }
   ],
   "source": [
    "# Create column PERC_ALTRI\n",
    "pd.to_numeric(df_final['PERCENTUALE_ALTRI'])\n",
    "pd.to_numeric(df_final['VOTANTI'])\n",
    "perc_votanti_altri= (df_final['PERCENTUALE_ALTRI'] / df_final['VOTANTI'])*100\n",
    "perc_votanti_altri"
   ]
  },
  {
   "cell_type": "code",
   "execution_count": 30,
   "metadata": {
    "collapsed": false
   },
   "outputs": [
    {
     "data": {
      "text/plain": [
       "DESCREGIONE\n",
       "ABRUZZO                  68.716381\n",
       "BASILICATA               62.857816\n",
       "CALABRIA                 54.434748\n",
       "CAMPANIA                 58.881672\n",
       "EMILIA-ROMAGNA           75.933223\n",
       "FRIULI-VENEZIA GIULIA    72.516677\n",
       "LAZIO                    69.163396\n",
       "LIGURIA                  69.736417\n",
       "LOMBARDIA                74.227696\n",
       "MARCHE                   72.842822\n",
       "MOLISE                   63.927514\n",
       "PIEMONTE                 72.037447\n",
       "PUGLIA                   61.713768\n",
       "SARDEGNA                 62.450835\n",
       "SICILIA                  56.654938\n",
       "TOSCANA                  74.455394\n",
       "TRENTINO-ALTO ADIGE      72.237616\n",
       "UMBRIA                   73.474543\n",
       "VALLE D'AOSTA            71.907555\n",
       "VENETO                   76.663710\n",
       "dtype: float64"
      ]
     },
     "execution_count": 30,
     "metadata": {},
     "output_type": "execute_result"
    }
   ],
   "source": [
    "# Create column PERC_VOTANTI\n",
    "pd.to_numeric(df_final['ELETTORI'])\n",
    "pd.to_numeric(df_final['VOTANTI'])\n",
    "perc_votanti= (df_final['VOTANTI'] / df_final['ELETTORI'])*100\n",
    "perc_votanti"
   ]
  },
  {
   "cell_type": "code",
   "execution_count": 31,
   "metadata": {
    "collapsed": true
   },
   "outputs": [],
   "source": [
    "df_final['PERC_NO']=perc_votanti_no\n",
    "df_final['PERC_SI']=perc_votanti_si\n",
    "df_final['PERC_ALTRI']=perc_votanti_altri\n",
    "df_final['PERC_VOTANTI']=perc_votanti"
   ]
  },
  {
   "cell_type": "code",
   "execution_count": 32,
   "metadata": {
    "collapsed": false
   },
   "outputs": [],
   "source": [
    "df_final=df_final[['ELETTORI','TOTALE_ELETTORI_M','TOTALE_ELETTORI_F','PERC_VOTANTI','PERC_SI','PERC_NO','PERC_ALTRI']]"
   ]
  },
  {
   "cell_type": "code",
   "execution_count": 33,
   "metadata": {
    "collapsed": false
   },
   "outputs": [
    {
     "data": {
      "text/html": [
       "<div>\n",
       "<table border=\"1\" class=\"dataframe\">\n",
       "  <thead>\n",
       "    <tr style=\"text-align: right;\">\n",
       "      <th></th>\n",
       "      <th>ELETTORI</th>\n",
       "      <th>TOTALE_ELETTORI_M</th>\n",
       "      <th>TOTALE_ELETTORI_F</th>\n",
       "      <th>PERC_VOTANTI</th>\n",
       "      <th>PERC_SI</th>\n",
       "      <th>PERC_NO</th>\n",
       "      <th>PERC_ALTRI</th>\n",
       "    </tr>\n",
       "    <tr>\n",
       "      <th>DESCREGIONE</th>\n",
       "      <th></th>\n",
       "      <th></th>\n",
       "      <th></th>\n",
       "      <th></th>\n",
       "      <th></th>\n",
       "      <th></th>\n",
       "      <th></th>\n",
       "    </tr>\n",
       "  </thead>\n",
       "  <tbody>\n",
       "    <tr>\n",
       "      <th>ABRUZZO</th>\n",
       "      <td>1052049</td>\n",
       "      <td>509116</td>\n",
       "      <td>542933</td>\n",
       "      <td>68.716381</td>\n",
       "      <td>35.273263</td>\n",
       "      <td>63.794282</td>\n",
       "      <td>0.932455</td>\n",
       "    </tr>\n",
       "    <tr>\n",
       "      <th>BASILICATA</th>\n",
       "      <td>467000</td>\n",
       "      <td>227236</td>\n",
       "      <td>239764</td>\n",
       "      <td>62.857816</td>\n",
       "      <td>33.699659</td>\n",
       "      <td>65.094057</td>\n",
       "      <td>1.206285</td>\n",
       "    </tr>\n",
       "    <tr>\n",
       "      <th>CALABRIA</th>\n",
       "      <td>1553741</td>\n",
       "      <td>749404</td>\n",
       "      <td>804337</td>\n",
       "      <td>54.434748</td>\n",
       "      <td>32.658095</td>\n",
       "      <td>66.415536</td>\n",
       "      <td>0.926369</td>\n",
       "    </tr>\n",
       "    <tr>\n",
       "      <th>CAMPANIA</th>\n",
       "      <td>4566905</td>\n",
       "      <td>2190203</td>\n",
       "      <td>2376702</td>\n",
       "      <td>58.881672</td>\n",
       "      <td>31.226112</td>\n",
       "      <td>67.970265</td>\n",
       "      <td>0.803624</td>\n",
       "    </tr>\n",
       "    <tr>\n",
       "      <th>EMILIA-ROMAGNA</th>\n",
       "      <td>3326910</td>\n",
       "      <td>1605036</td>\n",
       "      <td>1721874</td>\n",
       "      <td>75.933223</td>\n",
       "      <td>49.975022</td>\n",
       "      <td>49.203438</td>\n",
       "      <td>0.821540</td>\n",
       "    </tr>\n",
       "    <tr>\n",
       "      <th>FRIULI-VENEZIA GIULIA</th>\n",
       "      <td>952494</td>\n",
       "      <td>457538</td>\n",
       "      <td>494956</td>\n",
       "      <td>72.516677</td>\n",
       "      <td>38.707170</td>\n",
       "      <td>60.481210</td>\n",
       "      <td>0.811620</td>\n",
       "    </tr>\n",
       "    <tr>\n",
       "      <th>LAZIO</th>\n",
       "      <td>4402145</td>\n",
       "      <td>2097786</td>\n",
       "      <td>2304359</td>\n",
       "      <td>69.163396</td>\n",
       "      <td>36.416653</td>\n",
       "      <td>62.876933</td>\n",
       "      <td>0.706414</td>\n",
       "    </tr>\n",
       "    <tr>\n",
       "      <th>LIGURIA</th>\n",
       "      <td>1241469</td>\n",
       "      <td>585208</td>\n",
       "      <td>656261</td>\n",
       "      <td>69.736417</td>\n",
       "      <td>39.580552</td>\n",
       "      <td>59.575331</td>\n",
       "      <td>0.844118</td>\n",
       "    </tr>\n",
       "    <tr>\n",
       "      <th>LOMBARDIA</th>\n",
       "      <td>7480375</td>\n",
       "      <td>3616467</td>\n",
       "      <td>3863908</td>\n",
       "      <td>74.227696</td>\n",
       "      <td>44.177066</td>\n",
       "      <td>55.077974</td>\n",
       "      <td>0.744960</td>\n",
       "    </tr>\n",
       "    <tr>\n",
       "      <th>MARCHE</th>\n",
       "      <td>1189181</td>\n",
       "      <td>574341</td>\n",
       "      <td>614840</td>\n",
       "      <td>72.842822</td>\n",
       "      <td>44.533976</td>\n",
       "      <td>54.577117</td>\n",
       "      <td>0.888906</td>\n",
       "    </tr>\n",
       "    <tr>\n",
       "      <th>MOLISE</th>\n",
       "      <td>256600</td>\n",
       "      <td>124778</td>\n",
       "      <td>131822</td>\n",
       "      <td>63.927514</td>\n",
       "      <td>38.829418</td>\n",
       "      <td>60.186054</td>\n",
       "      <td>0.984528</td>\n",
       "    </tr>\n",
       "    <tr>\n",
       "      <th>PIEMONTE</th>\n",
       "      <td>3396378</td>\n",
       "      <td>1633247</td>\n",
       "      <td>1763131</td>\n",
       "      <td>72.037447</td>\n",
       "      <td>43.109679</td>\n",
       "      <td>55.945606</td>\n",
       "      <td>0.944715</td>\n",
       "    </tr>\n",
       "    <tr>\n",
       "      <th>PUGLIA</th>\n",
       "      <td>3280712</td>\n",
       "      <td>1571599</td>\n",
       "      <td>1709113</td>\n",
       "      <td>61.713768</td>\n",
       "      <td>32.566304</td>\n",
       "      <td>66.607677</td>\n",
       "      <td>0.826019</td>\n",
       "    </tr>\n",
       "    <tr>\n",
       "      <th>SARDEGNA</th>\n",
       "      <td>1375735</td>\n",
       "      <td>668772</td>\n",
       "      <td>706963</td>\n",
       "      <td>62.450835</td>\n",
       "      <td>27.617737</td>\n",
       "      <td>71.790171</td>\n",
       "      <td>0.592091</td>\n",
       "    </tr>\n",
       "    <tr>\n",
       "      <th>SICILIA</th>\n",
       "      <td>4031871</td>\n",
       "      <td>1924425</td>\n",
       "      <td>2107446</td>\n",
       "      <td>56.654938</td>\n",
       "      <td>28.136670</td>\n",
       "      <td>70.924468</td>\n",
       "      <td>0.938862</td>\n",
       "    </tr>\n",
       "    <tr>\n",
       "      <th>TOSCANA</th>\n",
       "      <td>2854129</td>\n",
       "      <td>1364774</td>\n",
       "      <td>1489355</td>\n",
       "      <td>74.455394</td>\n",
       "      <td>52.034890</td>\n",
       "      <td>47.058026</td>\n",
       "      <td>0.907083</td>\n",
       "    </tr>\n",
       "    <tr>\n",
       "      <th>TRENTINO-ALTO ADIGE</th>\n",
       "      <td>792504</td>\n",
       "      <td>387839</td>\n",
       "      <td>404665</td>\n",
       "      <td>72.237616</td>\n",
       "      <td>53.332658</td>\n",
       "      <td>45.673257</td>\n",
       "      <td>0.994085</td>\n",
       "    </tr>\n",
       "    <tr>\n",
       "      <th>UMBRIA</th>\n",
       "      <td>675404</td>\n",
       "      <td>324409</td>\n",
       "      <td>350995</td>\n",
       "      <td>73.474543</td>\n",
       "      <td>48.414509</td>\n",
       "      <td>50.749622</td>\n",
       "      <td>0.835869</td>\n",
       "    </tr>\n",
       "    <tr>\n",
       "      <th>VALLE D'AOSTA</th>\n",
       "      <td>99735</td>\n",
       "      <td>48701</td>\n",
       "      <td>51034</td>\n",
       "      <td>71.907555</td>\n",
       "      <td>42.623088</td>\n",
       "      <td>55.936528</td>\n",
       "      <td>1.440384</td>\n",
       "    </tr>\n",
       "    <tr>\n",
       "      <th>VENETO</th>\n",
       "      <td>3714515</td>\n",
       "      <td>1801910</td>\n",
       "      <td>1912605</td>\n",
       "      <td>76.663710</td>\n",
       "      <td>37.768925</td>\n",
       "      <td>61.495601</td>\n",
       "      <td>0.735475</td>\n",
       "    </tr>\n",
       "  </tbody>\n",
       "</table>\n",
       "</div>"
      ],
      "text/plain": [
       "                       ELETTORI  TOTALE_ELETTORI_M  TOTALE_ELETTORI_F  \\\n",
       "DESCREGIONE                                                             \n",
       "ABRUZZO                 1052049             509116             542933   \n",
       "BASILICATA               467000             227236             239764   \n",
       "CALABRIA                1553741             749404             804337   \n",
       "CAMPANIA                4566905            2190203            2376702   \n",
       "EMILIA-ROMAGNA          3326910            1605036            1721874   \n",
       "FRIULI-VENEZIA GIULIA    952494             457538             494956   \n",
       "LAZIO                   4402145            2097786            2304359   \n",
       "LIGURIA                 1241469             585208             656261   \n",
       "LOMBARDIA               7480375            3616467            3863908   \n",
       "MARCHE                  1189181             574341             614840   \n",
       "MOLISE                   256600             124778             131822   \n",
       "PIEMONTE                3396378            1633247            1763131   \n",
       "PUGLIA                  3280712            1571599            1709113   \n",
       "SARDEGNA                1375735             668772             706963   \n",
       "SICILIA                 4031871            1924425            2107446   \n",
       "TOSCANA                 2854129            1364774            1489355   \n",
       "TRENTINO-ALTO ADIGE      792504             387839             404665   \n",
       "UMBRIA                   675404             324409             350995   \n",
       "VALLE D'AOSTA             99735              48701              51034   \n",
       "VENETO                  3714515            1801910            1912605   \n",
       "\n",
       "                       PERC_VOTANTI    PERC_SI    PERC_NO  PERC_ALTRI  \n",
       "DESCREGIONE                                                            \n",
       "ABRUZZO                   68.716381  35.273263  63.794282    0.932455  \n",
       "BASILICATA                62.857816  33.699659  65.094057    1.206285  \n",
       "CALABRIA                  54.434748  32.658095  66.415536    0.926369  \n",
       "CAMPANIA                  58.881672  31.226112  67.970265    0.803624  \n",
       "EMILIA-ROMAGNA            75.933223  49.975022  49.203438    0.821540  \n",
       "FRIULI-VENEZIA GIULIA     72.516677  38.707170  60.481210    0.811620  \n",
       "LAZIO                     69.163396  36.416653  62.876933    0.706414  \n",
       "LIGURIA                   69.736417  39.580552  59.575331    0.844118  \n",
       "LOMBARDIA                 74.227696  44.177066  55.077974    0.744960  \n",
       "MARCHE                    72.842822  44.533976  54.577117    0.888906  \n",
       "MOLISE                    63.927514  38.829418  60.186054    0.984528  \n",
       "PIEMONTE                  72.037447  43.109679  55.945606    0.944715  \n",
       "PUGLIA                    61.713768  32.566304  66.607677    0.826019  \n",
       "SARDEGNA                  62.450835  27.617737  71.790171    0.592091  \n",
       "SICILIA                   56.654938  28.136670  70.924468    0.938862  \n",
       "TOSCANA                   74.455394  52.034890  47.058026    0.907083  \n",
       "TRENTINO-ALTO ADIGE       72.237616  53.332658  45.673257    0.994085  \n",
       "UMBRIA                    73.474543  48.414509  50.749622    0.835869  \n",
       "VALLE D'AOSTA             71.907555  42.623088  55.936528    1.440384  \n",
       "VENETO                    76.663710  37.768925  61.495601    0.735475  "
      ]
     },
     "execution_count": 33,
     "metadata": {},
     "output_type": "execute_result"
    }
   ],
   "source": [
    "df_final"
   ]
  },
  {
   "cell_type": "markdown",
   "metadata": {},
   "source": [
    "# Check that percSI+percNO+percALTRI = 100%"
   ]
  },
  {
   "cell_type": "code",
   "execution_count": 34,
   "metadata": {
    "collapsed": false
   },
   "outputs": [
    {
     "data": {
      "text/plain": [
       "DESCREGIONE\n",
       "ABRUZZO                  100.0\n",
       "BASILICATA               100.0\n",
       "CALABRIA                 100.0\n",
       "CAMPANIA                 100.0\n",
       "EMILIA-ROMAGNA           100.0\n",
       "FRIULI-VENEZIA GIULIA    100.0\n",
       "LAZIO                    100.0\n",
       "LIGURIA                  100.0\n",
       "LOMBARDIA                100.0\n",
       "MARCHE                   100.0\n",
       "MOLISE                   100.0\n",
       "PIEMONTE                 100.0\n",
       "PUGLIA                   100.0\n",
       "SARDEGNA                 100.0\n",
       "SICILIA                  100.0\n",
       "TOSCANA                  100.0\n",
       "TRENTINO-ALTO ADIGE      100.0\n",
       "UMBRIA                   100.0\n",
       "VALLE D'AOSTA            100.0\n",
       "VENETO                   100.0\n",
       "dtype: float64"
      ]
     },
     "execution_count": 34,
     "metadata": {},
     "output_type": "execute_result"
    }
   ],
   "source": [
    "# Create column PERC_VOTANTI\n",
    "a=pd.to_numeric(df_final['PERC_NO'])\n",
    "b=pd.to_numeric(df_final['PERC_SI'])\n",
    "c=pd.to_numeric(df_final['PERC_ALTRI'])\n",
    "tot_perc =a+b+c \n",
    "tot_perc"
   ]
  },
  {
   "cell_type": "markdown",
   "metadata": {},
   "source": [
    "# Write dataframe to CSV"
   ]
  },
  {
   "cell_type": "code",
   "execution_count": 35,
   "metadata": {
    "collapsed": true
   },
   "outputs": [],
   "source": [
    "df_final.to_csv('../resources/aggregazione.csv',sep=';',index=False)"
   ]
  },
  {
   "cell_type": "code",
   "execution_count": null,
   "metadata": {
    "collapsed": true
   },
   "outputs": [],
   "source": []
  }
 ],
 "metadata": {
  "anaconda-cloud": {},
  "kernelspec": {
   "display_name": "Python [default]",
   "language": "python",
   "name": "python3"
  },
  "language_info": {
   "codemirror_mode": {
    "name": "ipython",
    "version": 3
   },
   "file_extension": ".py",
   "mimetype": "text/x-python",
   "name": "python",
   "nbconvert_exporter": "python",
   "pygments_lexer": "ipython3",
   "version": "3.5.2"
  }
 },
 "nbformat": 4,
 "nbformat_minor": 1
}
