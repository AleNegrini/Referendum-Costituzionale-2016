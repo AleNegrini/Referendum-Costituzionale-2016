{
 "cells": [
  {
   "cell_type": "code",
   "execution_count": 18,
   "metadata": {
    "collapsed": false
   },
   "outputs": [],
   "source": [
    "import pandas as pd\n",
    "import matplotlib.pyplot as plt"
   ]
  },
  {
   "cell_type": "markdown",
   "metadata": {},
   "source": [
    "# Load csv dataset in a dataframe "
   ]
  },
  {
   "cell_type": "code",
   "execution_count": 20,
   "metadata": {
    "collapsed": false
   },
   "outputs": [],
   "source": [
    "df = pd.read_csv('../resources/aggregazioneRegioni.csv',sep=';')"
   ]
  },
  {
   "cell_type": "code",
   "execution_count": 21,
   "metadata": {
    "collapsed": false
   },
   "outputs": [
    {
     "data": {
      "text/html": [
       "<div>\n",
       "<table border=\"1\" class=\"dataframe\">\n",
       "  <thead>\n",
       "    <tr style=\"text-align: right;\">\n",
       "      <th></th>\n",
       "      <th>REGIONE</th>\n",
       "      <th>ELETTORI</th>\n",
       "      <th>TOTALE_ELETTORI_M</th>\n",
       "      <th>TOTALE_ELETTORI_F</th>\n",
       "      <th>PERC_VOTANTI</th>\n",
       "      <th>PERC_SI</th>\n",
       "      <th>PERC_NO</th>\n",
       "      <th>PERC_ALTRI</th>\n",
       "    </tr>\n",
       "  </thead>\n",
       "  <tbody>\n",
       "    <tr>\n",
       "      <th>0</th>\n",
       "      <td>ABRUZZO</td>\n",
       "      <td>1052049</td>\n",
       "      <td>509116</td>\n",
       "      <td>542933</td>\n",
       "      <td>68.716381</td>\n",
       "      <td>35.273263</td>\n",
       "      <td>63.794282</td>\n",
       "      <td>0.932455</td>\n",
       "    </tr>\n",
       "    <tr>\n",
       "      <th>1</th>\n",
       "      <td>BASILICATA</td>\n",
       "      <td>467000</td>\n",
       "      <td>227236</td>\n",
       "      <td>239764</td>\n",
       "      <td>62.857816</td>\n",
       "      <td>33.699659</td>\n",
       "      <td>65.094057</td>\n",
       "      <td>1.206285</td>\n",
       "    </tr>\n",
       "    <tr>\n",
       "      <th>2</th>\n",
       "      <td>CALABRIA</td>\n",
       "      <td>1553741</td>\n",
       "      <td>749404</td>\n",
       "      <td>804337</td>\n",
       "      <td>54.434748</td>\n",
       "      <td>32.658095</td>\n",
       "      <td>66.415536</td>\n",
       "      <td>0.926369</td>\n",
       "    </tr>\n",
       "    <tr>\n",
       "      <th>3</th>\n",
       "      <td>CAMPANIA</td>\n",
       "      <td>4566905</td>\n",
       "      <td>2190203</td>\n",
       "      <td>2376702</td>\n",
       "      <td>58.881672</td>\n",
       "      <td>31.226112</td>\n",
       "      <td>67.970265</td>\n",
       "      <td>0.803624</td>\n",
       "    </tr>\n",
       "    <tr>\n",
       "      <th>4</th>\n",
       "      <td>EMILIA-ROMAGNA</td>\n",
       "      <td>3326910</td>\n",
       "      <td>1605036</td>\n",
       "      <td>1721874</td>\n",
       "      <td>75.933223</td>\n",
       "      <td>49.975022</td>\n",
       "      <td>49.203438</td>\n",
       "      <td>0.821540</td>\n",
       "    </tr>\n",
       "  </tbody>\n",
       "</table>\n",
       "</div>"
      ],
      "text/plain": [
       "          REGIONE  ELETTORI  TOTALE_ELETTORI_M  TOTALE_ELETTORI_F  \\\n",
       "0         ABRUZZO   1052049             509116             542933   \n",
       "1      BASILICATA    467000             227236             239764   \n",
       "2        CALABRIA   1553741             749404             804337   \n",
       "3        CAMPANIA   4566905            2190203            2376702   \n",
       "4  EMILIA-ROMAGNA   3326910            1605036            1721874   \n",
       "\n",
       "   PERC_VOTANTI    PERC_SI    PERC_NO  PERC_ALTRI  \n",
       "0     68.716381  35.273263  63.794282    0.932455  \n",
       "1     62.857816  33.699659  65.094057    1.206285  \n",
       "2     54.434748  32.658095  66.415536    0.926369  \n",
       "3     58.881672  31.226112  67.970265    0.803624  \n",
       "4     75.933223  49.975022  49.203438    0.821540  "
      ]
     },
     "execution_count": 21,
     "metadata": {},
     "output_type": "execute_result"
    }
   ],
   "source": [
    "df.head(5)"
   ]
  },
  {
   "cell_type": "markdown",
   "metadata": {},
   "source": [
    "# Results interpretation"
   ]
  },
  {
   "cell_type": "code",
   "execution_count": 22,
   "metadata": {
    "collapsed": false
   },
   "outputs": [
    {
     "data": {
      "text/html": [
       "<div>\n",
       "<table border=\"1\" class=\"dataframe\">\n",
       "  <thead>\n",
       "    <tr style=\"text-align: right;\">\n",
       "      <th></th>\n",
       "      <th>REGIONE</th>\n",
       "      <th>ELETTORI</th>\n",
       "      <th>TOTALE_ELETTORI_M</th>\n",
       "      <th>TOTALE_ELETTORI_F</th>\n",
       "      <th>PERC_VOTANTI</th>\n",
       "      <th>PERC_SI</th>\n",
       "      <th>PERC_NO</th>\n",
       "      <th>PERC_ALTRI</th>\n",
       "    </tr>\n",
       "  </thead>\n",
       "  <tbody>\n",
       "    <tr>\n",
       "      <th>4</th>\n",
       "      <td>EMILIA-ROMAGNA</td>\n",
       "      <td>3326910</td>\n",
       "      <td>1605036</td>\n",
       "      <td>1721874</td>\n",
       "      <td>75.933223</td>\n",
       "      <td>49.975022</td>\n",
       "      <td>49.203438</td>\n",
       "      <td>0.821540</td>\n",
       "    </tr>\n",
       "    <tr>\n",
       "      <th>15</th>\n",
       "      <td>TOSCANA</td>\n",
       "      <td>2854129</td>\n",
       "      <td>1364774</td>\n",
       "      <td>1489355</td>\n",
       "      <td>74.455394</td>\n",
       "      <td>52.034890</td>\n",
       "      <td>47.058026</td>\n",
       "      <td>0.907083</td>\n",
       "    </tr>\n",
       "    <tr>\n",
       "      <th>16</th>\n",
       "      <td>TRENTINO-ALTO ADIGE</td>\n",
       "      <td>792504</td>\n",
       "      <td>387839</td>\n",
       "      <td>404665</td>\n",
       "      <td>72.237616</td>\n",
       "      <td>53.332658</td>\n",
       "      <td>45.673257</td>\n",
       "      <td>0.994085</td>\n",
       "    </tr>\n",
       "  </tbody>\n",
       "</table>\n",
       "</div>"
      ],
      "text/plain": [
       "                REGIONE  ELETTORI  TOTALE_ELETTORI_M  TOTALE_ELETTORI_F  \\\n",
       "4        EMILIA-ROMAGNA   3326910            1605036            1721874   \n",
       "15              TOSCANA   2854129            1364774            1489355   \n",
       "16  TRENTINO-ALTO ADIGE    792504             387839             404665   \n",
       "\n",
       "    PERC_VOTANTI    PERC_SI    PERC_NO  PERC_ALTRI  \n",
       "4      75.933223  49.975022  49.203438    0.821540  \n",
       "15     74.455394  52.034890  47.058026    0.907083  \n",
       "16     72.237616  53.332658  45.673257    0.994085  "
      ]
     },
     "execution_count": 22,
     "metadata": {},
     "output_type": "execute_result"
    }
   ],
   "source": [
    "# Get the regions in which 'YES' wins\n",
    "df.loc[df['PERC_SI'] > df['PERC_NO']]"
   ]
  },
  {
   "cell_type": "code",
   "execution_count": 23,
   "metadata": {
    "collapsed": false
   },
   "outputs": [
    {
     "data": {
      "text/html": [
       "<div>\n",
       "<table border=\"1\" class=\"dataframe\">\n",
       "  <thead>\n",
       "    <tr style=\"text-align: right;\">\n",
       "      <th></th>\n",
       "      <th>REGIONE</th>\n",
       "      <th>ELETTORI</th>\n",
       "      <th>TOTALE_ELETTORI_M</th>\n",
       "      <th>TOTALE_ELETTORI_F</th>\n",
       "      <th>PERC_VOTANTI</th>\n",
       "      <th>PERC_SI</th>\n",
       "      <th>PERC_NO</th>\n",
       "      <th>PERC_ALTRI</th>\n",
       "    </tr>\n",
       "  </thead>\n",
       "  <tbody>\n",
       "    <tr>\n",
       "      <th>0</th>\n",
       "      <td>ABRUZZO</td>\n",
       "      <td>1052049</td>\n",
       "      <td>509116</td>\n",
       "      <td>542933</td>\n",
       "      <td>68.716381</td>\n",
       "      <td>35.273263</td>\n",
       "      <td>63.794282</td>\n",
       "      <td>0.932455</td>\n",
       "    </tr>\n",
       "    <tr>\n",
       "      <th>1</th>\n",
       "      <td>BASILICATA</td>\n",
       "      <td>467000</td>\n",
       "      <td>227236</td>\n",
       "      <td>239764</td>\n",
       "      <td>62.857816</td>\n",
       "      <td>33.699659</td>\n",
       "      <td>65.094057</td>\n",
       "      <td>1.206285</td>\n",
       "    </tr>\n",
       "    <tr>\n",
       "      <th>2</th>\n",
       "      <td>CALABRIA</td>\n",
       "      <td>1553741</td>\n",
       "      <td>749404</td>\n",
       "      <td>804337</td>\n",
       "      <td>54.434748</td>\n",
       "      <td>32.658095</td>\n",
       "      <td>66.415536</td>\n",
       "      <td>0.926369</td>\n",
       "    </tr>\n",
       "    <tr>\n",
       "      <th>3</th>\n",
       "      <td>CAMPANIA</td>\n",
       "      <td>4566905</td>\n",
       "      <td>2190203</td>\n",
       "      <td>2376702</td>\n",
       "      <td>58.881672</td>\n",
       "      <td>31.226112</td>\n",
       "      <td>67.970265</td>\n",
       "      <td>0.803624</td>\n",
       "    </tr>\n",
       "    <tr>\n",
       "      <th>5</th>\n",
       "      <td>FRIULI-VENEZIA GIULIA</td>\n",
       "      <td>952494</td>\n",
       "      <td>457538</td>\n",
       "      <td>494956</td>\n",
       "      <td>72.516677</td>\n",
       "      <td>38.707170</td>\n",
       "      <td>60.481210</td>\n",
       "      <td>0.811620</td>\n",
       "    </tr>\n",
       "    <tr>\n",
       "      <th>6</th>\n",
       "      <td>LAZIO</td>\n",
       "      <td>4402145</td>\n",
       "      <td>2097786</td>\n",
       "      <td>2304359</td>\n",
       "      <td>69.163396</td>\n",
       "      <td>36.416653</td>\n",
       "      <td>62.876933</td>\n",
       "      <td>0.706414</td>\n",
       "    </tr>\n",
       "    <tr>\n",
       "      <th>7</th>\n",
       "      <td>LIGURIA</td>\n",
       "      <td>1241469</td>\n",
       "      <td>585208</td>\n",
       "      <td>656261</td>\n",
       "      <td>69.736417</td>\n",
       "      <td>39.580552</td>\n",
       "      <td>59.575331</td>\n",
       "      <td>0.844118</td>\n",
       "    </tr>\n",
       "    <tr>\n",
       "      <th>8</th>\n",
       "      <td>LOMBARDIA</td>\n",
       "      <td>7480375</td>\n",
       "      <td>3616467</td>\n",
       "      <td>3863908</td>\n",
       "      <td>74.227696</td>\n",
       "      <td>44.177066</td>\n",
       "      <td>55.077974</td>\n",
       "      <td>0.744960</td>\n",
       "    </tr>\n",
       "    <tr>\n",
       "      <th>9</th>\n",
       "      <td>MARCHE</td>\n",
       "      <td>1189181</td>\n",
       "      <td>574341</td>\n",
       "      <td>614840</td>\n",
       "      <td>72.842822</td>\n",
       "      <td>44.533976</td>\n",
       "      <td>54.577117</td>\n",
       "      <td>0.888906</td>\n",
       "    </tr>\n",
       "    <tr>\n",
       "      <th>10</th>\n",
       "      <td>MOLISE</td>\n",
       "      <td>256600</td>\n",
       "      <td>124778</td>\n",
       "      <td>131822</td>\n",
       "      <td>63.927514</td>\n",
       "      <td>38.829418</td>\n",
       "      <td>60.186054</td>\n",
       "      <td>0.984528</td>\n",
       "    </tr>\n",
       "    <tr>\n",
       "      <th>11</th>\n",
       "      <td>PIEMONTE</td>\n",
       "      <td>3396378</td>\n",
       "      <td>1633247</td>\n",
       "      <td>1763131</td>\n",
       "      <td>72.037447</td>\n",
       "      <td>43.109679</td>\n",
       "      <td>55.945606</td>\n",
       "      <td>0.944715</td>\n",
       "    </tr>\n",
       "    <tr>\n",
       "      <th>12</th>\n",
       "      <td>PUGLIA</td>\n",
       "      <td>3280712</td>\n",
       "      <td>1571599</td>\n",
       "      <td>1709113</td>\n",
       "      <td>61.713768</td>\n",
       "      <td>32.566304</td>\n",
       "      <td>66.607677</td>\n",
       "      <td>0.826019</td>\n",
       "    </tr>\n",
       "    <tr>\n",
       "      <th>13</th>\n",
       "      <td>SARDEGNA</td>\n",
       "      <td>1375735</td>\n",
       "      <td>668772</td>\n",
       "      <td>706963</td>\n",
       "      <td>62.450835</td>\n",
       "      <td>27.617737</td>\n",
       "      <td>71.790171</td>\n",
       "      <td>0.592091</td>\n",
       "    </tr>\n",
       "    <tr>\n",
       "      <th>14</th>\n",
       "      <td>SICILIA</td>\n",
       "      <td>4031871</td>\n",
       "      <td>1924425</td>\n",
       "      <td>2107446</td>\n",
       "      <td>56.654938</td>\n",
       "      <td>28.136670</td>\n",
       "      <td>70.924468</td>\n",
       "      <td>0.938862</td>\n",
       "    </tr>\n",
       "    <tr>\n",
       "      <th>17</th>\n",
       "      <td>UMBRIA</td>\n",
       "      <td>675404</td>\n",
       "      <td>324409</td>\n",
       "      <td>350995</td>\n",
       "      <td>73.474543</td>\n",
       "      <td>48.414509</td>\n",
       "      <td>50.749622</td>\n",
       "      <td>0.835869</td>\n",
       "    </tr>\n",
       "    <tr>\n",
       "      <th>18</th>\n",
       "      <td>VALLE D'AOSTA</td>\n",
       "      <td>99735</td>\n",
       "      <td>48701</td>\n",
       "      <td>51034</td>\n",
       "      <td>71.907555</td>\n",
       "      <td>42.623088</td>\n",
       "      <td>55.936528</td>\n",
       "      <td>1.440384</td>\n",
       "    </tr>\n",
       "    <tr>\n",
       "      <th>19</th>\n",
       "      <td>VENETO</td>\n",
       "      <td>3714515</td>\n",
       "      <td>1801910</td>\n",
       "      <td>1912605</td>\n",
       "      <td>76.663710</td>\n",
       "      <td>37.768925</td>\n",
       "      <td>61.495601</td>\n",
       "      <td>0.735475</td>\n",
       "    </tr>\n",
       "  </tbody>\n",
       "</table>\n",
       "</div>"
      ],
      "text/plain": [
       "                  REGIONE  ELETTORI  TOTALE_ELETTORI_M  TOTALE_ELETTORI_F  \\\n",
       "0                 ABRUZZO   1052049             509116             542933   \n",
       "1              BASILICATA    467000             227236             239764   \n",
       "2                CALABRIA   1553741             749404             804337   \n",
       "3                CAMPANIA   4566905            2190203            2376702   \n",
       "5   FRIULI-VENEZIA GIULIA    952494             457538             494956   \n",
       "6                   LAZIO   4402145            2097786            2304359   \n",
       "7                 LIGURIA   1241469             585208             656261   \n",
       "8               LOMBARDIA   7480375            3616467            3863908   \n",
       "9                  MARCHE   1189181             574341             614840   \n",
       "10                 MOLISE    256600             124778             131822   \n",
       "11               PIEMONTE   3396378            1633247            1763131   \n",
       "12                 PUGLIA   3280712            1571599            1709113   \n",
       "13               SARDEGNA   1375735             668772             706963   \n",
       "14                SICILIA   4031871            1924425            2107446   \n",
       "17                 UMBRIA    675404             324409             350995   \n",
       "18          VALLE D'AOSTA     99735              48701              51034   \n",
       "19                 VENETO   3714515            1801910            1912605   \n",
       "\n",
       "    PERC_VOTANTI    PERC_SI    PERC_NO  PERC_ALTRI  \n",
       "0      68.716381  35.273263  63.794282    0.932455  \n",
       "1      62.857816  33.699659  65.094057    1.206285  \n",
       "2      54.434748  32.658095  66.415536    0.926369  \n",
       "3      58.881672  31.226112  67.970265    0.803624  \n",
       "5      72.516677  38.707170  60.481210    0.811620  \n",
       "6      69.163396  36.416653  62.876933    0.706414  \n",
       "7      69.736417  39.580552  59.575331    0.844118  \n",
       "8      74.227696  44.177066  55.077974    0.744960  \n",
       "9      72.842822  44.533976  54.577117    0.888906  \n",
       "10     63.927514  38.829418  60.186054    0.984528  \n",
       "11     72.037447  43.109679  55.945606    0.944715  \n",
       "12     61.713768  32.566304  66.607677    0.826019  \n",
       "13     62.450835  27.617737  71.790171    0.592091  \n",
       "14     56.654938  28.136670  70.924468    0.938862  \n",
       "17     73.474543  48.414509  50.749622    0.835869  \n",
       "18     71.907555  42.623088  55.936528    1.440384  \n",
       "19     76.663710  37.768925  61.495601    0.735475  "
      ]
     },
     "execution_count": 23,
     "metadata": {},
     "output_type": "execute_result"
    }
   ],
   "source": [
    "# Get the regions in which 'NO' wins\n",
    "df.loc[df['PERC_SI'] < df['PERC_NO']]"
   ]
  },
  {
   "cell_type": "markdown",
   "metadata": {},
   "source": [
    "# Data Visualization"
   ]
  },
  {
   "cell_type": "code",
   "execution_count": 24,
   "metadata": {
    "collapsed": false
   },
   "outputs": [
    {
     "data": {
      "text/plain": [
       "<matplotlib.figure.Figure at 0x9ec06a0>"
      ]
     },
     "execution_count": 24,
     "metadata": {},
     "output_type": "execute_result"
    }
   ],
   "source": [
    "plt.figure()"
   ]
  },
  {
   "cell_type": "code",
   "execution_count": 25,
   "metadata": {
    "collapsed": false
   },
   "outputs": [
    {
     "data": {
      "image/png": "[encoded data removed]",
      "text/plain": [
       "<matplotlib.figure.Figure at 0x9ec06a0>"
      ]
     },
     "metadata": {},
     "output_type": "display_data"
    }
   ],
   "source": [
    "ax = df['PERC_VOTANTI'].plot(kind='bar', use_index=False,title =\"Percentuale votanti per regione\", figsize=(15, 10),legend=True, fontsize=12)\n",
    "ax.set_xlabel(\"Regione\", fontsize=12)\n",
    "ax.set_ylabel(\"Percentuale\", fontsize=12)\n",
    "plt.xticks([0,1,2,3,4,5,6,7,8,9,10,11,12,13,14,15,16,17,18,19],df['REGIONE'])\n",
    "plt.show()"
   ]
  },
  {
   "cell_type": "code",
   "execution_count": 26,
   "metadata": {
    "collapsed": false
   },
   "outputs": [
    {
     "data": {
      "image/png": "[encoded data removed]",
      "text/plain": [
       "<matplotlib.figure.Figure at 0xa784860>"
      ]
     },
     "metadata": {},
     "output_type": "display_data"
    }
   ],
   "source": [
    "ax = df['PERC_SI'].plot(kind='bar', use_index=False,title =\"Percentuale votanti SI per regione\", figsize=(15, 10),legend=True, fontsize=12)\n",
    "ax.set_xlabel(\"Regione\", fontsize=12)\n",
    "ax.set_ylabel(\"Percentuale\", fontsize=12)\n",
    "plt.xticks([0,1,2,3,4,5,6,7,8,9,10,11,12,13,14,15,16,17,18,19],df['REGIONE'])\n",
    "plt.show()"
   ]
  },
  {
   "cell_type": "code",
   "execution_count": 27,
   "metadata": {
    "collapsed": false
   },
   "outputs": [
    {
     "data": {
      "image/png": "[encoded data removed]",
      "text/plain": [
       "<matplotlib.figure.Figure at 0xa79d320>"
      ]
     },
     "metadata": {},
     "output_type": "display_data"
    }
   ],
   "source": [
    "ax = df['PERC_NO'].plot(kind='bar', use_index=False,title =\"Percentuale votanti NO per regione\", figsize=(15, 10),legend=True, fontsize=12)\n",
    "ax.set_xlabel(\"Regione\", fontsize=12)\n",
    "ax.set_ylabel(\"Percentuale\", fontsize=12)\n",
    "plt.xticks([0,1,2,3,4,5,6,7,8,9,10,11,12,13,14,15,16,17,18,19],df['REGIONE'])\n",
    "plt.show()"
   ]
  },
  {
   "cell_type": "code",
   "execution_count": 28,
   "metadata": {
    "collapsed": false
   },
   "outputs": [
    {
     "data": {
      "text/html": [
       "<div>\n",
       "<table border=\"1\" class=\"dataframe\">\n",
       "  <thead>\n",
       "    <tr style=\"text-align: right;\">\n",
       "      <th></th>\n",
       "      <th>REGIONE</th>\n",
       "      <th>ELETTORI</th>\n",
       "      <th>TOTALE_ELETTORI_M</th>\n",
       "      <th>TOTALE_ELETTORI_F</th>\n",
       "      <th>PERC_VOTANTI</th>\n",
       "      <th>PERC_SI</th>\n",
       "      <th>PERC_NO</th>\n",
       "      <th>PERC_ALTRI</th>\n",
       "    </tr>\n",
       "  </thead>\n",
       "  <tbody>\n",
       "    <tr>\n",
       "      <th>19</th>\n",
       "      <td>VENETO</td>\n",
       "      <td>3714515</td>\n",
       "      <td>1801910</td>\n",
       "      <td>1912605</td>\n",
       "      <td>76.66371</td>\n",
       "      <td>37.768925</td>\n",
       "      <td>61.495601</td>\n",
       "      <td>0.735475</td>\n",
       "    </tr>\n",
       "  </tbody>\n",
       "</table>\n",
       "</div>"
      ],
      "text/plain": [
       "   REGIONE  ELETTORI  TOTALE_ELETTORI_M  TOTALE_ELETTORI_F  PERC_VOTANTI  \\\n",
       "19  VENETO   3714515            1801910            1912605      76.66371   \n",
       "\n",
       "      PERC_SI    PERC_NO  PERC_ALTRI  \n",
       "19  37.768925  61.495601    0.735475  "
      ]
     },
     "execution_count": 28,
     "metadata": {},
     "output_type": "execute_result"
    }
   ],
   "source": [
    "# Which is the region with the highest percentage of voting people?\n",
    "df.sort_values(by='PERC_VOTANTI', ascending=False).head(1)"
   ]
  },
  {
   "cell_type": "code",
   "execution_count": 29,
   "metadata": {
    "collapsed": false
   },
   "outputs": [
    {
     "data": {
      "text/html": [
       "<div>\n",
       "<table border=\"1\" class=\"dataframe\">\n",
       "  <thead>\n",
       "    <tr style=\"text-align: right;\">\n",
       "      <th></th>\n",
       "      <th>REGIONE</th>\n",
       "      <th>ELETTORI</th>\n",
       "      <th>TOTALE_ELETTORI_M</th>\n",
       "      <th>TOTALE_ELETTORI_F</th>\n",
       "      <th>PERC_VOTANTI</th>\n",
       "      <th>PERC_SI</th>\n",
       "      <th>PERC_NO</th>\n",
       "      <th>PERC_ALTRI</th>\n",
       "    </tr>\n",
       "  </thead>\n",
       "  <tbody>\n",
       "    <tr>\n",
       "      <th>2</th>\n",
       "      <td>CALABRIA</td>\n",
       "      <td>1553741</td>\n",
       "      <td>749404</td>\n",
       "      <td>804337</td>\n",
       "      <td>54.434748</td>\n",
       "      <td>32.658095</td>\n",
       "      <td>66.415536</td>\n",
       "      <td>0.926369</td>\n",
       "    </tr>\n",
       "  </tbody>\n",
       "</table>\n",
       "</div>"
      ],
      "text/plain": [
       "    REGIONE  ELETTORI  TOTALE_ELETTORI_M  TOTALE_ELETTORI_F  PERC_VOTANTI  \\\n",
       "2  CALABRIA   1553741             749404             804337     54.434748   \n",
       "\n",
       "     PERC_SI    PERC_NO  PERC_ALTRI  \n",
       "2  32.658095  66.415536    0.926369  "
      ]
     },
     "execution_count": 29,
     "metadata": {},
     "output_type": "execute_result"
    }
   ],
   "source": [
    "# Which is the region with the lowest percentage of voting people?\n",
    "df.sort_values(by='PERC_VOTANTI', ascending=True).head(1)"
   ]
  },
  {
   "cell_type": "code",
   "execution_count": 30,
   "metadata": {
    "collapsed": false
   },
   "outputs": [
    {
     "data": {
      "text/html": [
       "<div>\n",
       "<table border=\"1\" class=\"dataframe\">\n",
       "  <thead>\n",
       "    <tr style=\"text-align: right;\">\n",
       "      <th></th>\n",
       "      <th>REGIONE</th>\n",
       "      <th>ELETTORI</th>\n",
       "      <th>TOTALE_ELETTORI_M</th>\n",
       "      <th>TOTALE_ELETTORI_F</th>\n",
       "      <th>PERC_VOTANTI</th>\n",
       "      <th>PERC_SI</th>\n",
       "      <th>PERC_NO</th>\n",
       "      <th>PERC_ALTRI</th>\n",
       "    </tr>\n",
       "  </thead>\n",
       "  <tbody>\n",
       "    <tr>\n",
       "      <th>16</th>\n",
       "      <td>TRENTINO-ALTO ADIGE</td>\n",
       "      <td>792504</td>\n",
       "      <td>387839</td>\n",
       "      <td>404665</td>\n",
       "      <td>72.237616</td>\n",
       "      <td>53.332658</td>\n",
       "      <td>45.673257</td>\n",
       "      <td>0.994085</td>\n",
       "    </tr>\n",
       "  </tbody>\n",
       "</table>\n",
       "</div>"
      ],
      "text/plain": [
       "                REGIONE  ELETTORI  TOTALE_ELETTORI_M  TOTALE_ELETTORI_F  \\\n",
       "16  TRENTINO-ALTO ADIGE    792504             387839             404665   \n",
       "\n",
       "    PERC_VOTANTI    PERC_SI    PERC_NO  PERC_ALTRI  \n",
       "16     72.237616  53.332658  45.673257    0.994085  "
      ]
     },
     "execution_count": 30,
     "metadata": {},
     "output_type": "execute_result"
    }
   ],
   "source": [
    "# Which is the region with the highest percentage of voting people 'YES'?\n",
    "df.sort_values(by='PERC_SI', ascending=False).head(1)"
   ]
  },
  {
   "cell_type": "code",
   "execution_count": 31,
   "metadata": {
    "collapsed": false
   },
   "outputs": [
    {
     "data": {
      "text/html": [
       "<div>\n",
       "<table border=\"1\" class=\"dataframe\">\n",
       "  <thead>\n",
       "    <tr style=\"text-align: right;\">\n",
       "      <th></th>\n",
       "      <th>REGIONE</th>\n",
       "      <th>ELETTORI</th>\n",
       "      <th>TOTALE_ELETTORI_M</th>\n",
       "      <th>TOTALE_ELETTORI_F</th>\n",
       "      <th>PERC_VOTANTI</th>\n",
       "      <th>PERC_SI</th>\n",
       "      <th>PERC_NO</th>\n",
       "      <th>PERC_ALTRI</th>\n",
       "    </tr>\n",
       "  </thead>\n",
       "  <tbody>\n",
       "    <tr>\n",
       "      <th>13</th>\n",
       "      <td>SARDEGNA</td>\n",
       "      <td>1375735</td>\n",
       "      <td>668772</td>\n",
       "      <td>706963</td>\n",
       "      <td>62.450835</td>\n",
       "      <td>27.617737</td>\n",
       "      <td>71.790171</td>\n",
       "      <td>0.592091</td>\n",
       "    </tr>\n",
       "  </tbody>\n",
       "</table>\n",
       "</div>"
      ],
      "text/plain": [
       "     REGIONE  ELETTORI  TOTALE_ELETTORI_M  TOTALE_ELETTORI_F  PERC_VOTANTI  \\\n",
       "13  SARDEGNA   1375735             668772             706963     62.450835   \n",
       "\n",
       "      PERC_SI    PERC_NO  PERC_ALTRI  \n",
       "13  27.617737  71.790171    0.592091  "
      ]
     },
     "execution_count": 31,
     "metadata": {},
     "output_type": "execute_result"
    }
   ],
   "source": [
    "# Which is the region with the lowest percentage of voting people 'YES'?\n",
    "df.sort_values(by='PERC_SI', ascending=True).head(1)"
   ]
  }
 ],
 "metadata": {
  "anaconda-cloud": {},
  "kernelspec": {
   "display_name": "Python [default]",
   "language": "python",
   "name": "python3"
  },
  "language_info": {
   "codemirror_mode": {
    "name": "ipython",
    "version": 3
   },
   "file_extension": ".py",
   "mimetype": "text/x-python",
   "name": "python",
   "nbconvert_exporter": "python",
   "pygments_lexer": "ipython3",
   "version": "3.5.2"
  }
 },
 "nbformat": 4,
 "nbformat_minor": 1
}
